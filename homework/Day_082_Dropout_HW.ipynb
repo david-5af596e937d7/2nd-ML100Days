{
 "cells": [
  {
   "cell_type": "markdown",
   "metadata": {},
   "source": [
    "## Work\n",
    "1. 請比較使用不同層數以及不同 Dropout rate 對訓練的效果\n",
    "2. 將 optimizer 改成使用 Adam 並加上適當的 dropout rate 檢視結果"
   ]
  },
  {
   "cell_type": "code",
   "execution_count": 1,
   "metadata": {},
   "outputs": [
    {
     "name": "stderr",
     "output_type": "stream",
     "text": [
      "Using TensorFlow backend.\n"
     ]
    }
   ],
   "source": [
    "import os\n",
    "import keras\n",
    "import itertools\n",
    "# Disable GPU\n",
    "os.environ[\"CUDA_VISIBLE_DEVICES\"] = \"\""
   ]
  },
  {
   "cell_type": "code",
   "execution_count": 2,
   "metadata": {},
   "outputs": [],
   "source": [
    "train, test = keras.datasets.cifar10.load_data()"
   ]
  },
  {
   "cell_type": "code",
   "execution_count": 3,
   "metadata": {},
   "outputs": [],
   "source": [
    "## 資料前處理\n",
    "def preproc_x(x, flatten=True):\n",
    "    x = x / 255.\n",
    "    if flatten:\n",
    "        x = x.reshape((len(x), -1))\n",
    "    return x\n",
    "\n",
    "def preproc_y(y, num_classes=10):\n",
    "    if y.shape[-1] == 1:\n",
    "        y = keras.utils.to_categorical(y, num_classes)\n",
    "    return y    "
   ]
  },
  {
   "cell_type": "code",
   "execution_count": 4,
   "metadata": {},
   "outputs": [],
   "source": [
    "x_train, y_train = train\n",
    "x_test, y_test = test\n",
    "\n",
    "# Preproc the inputs\n",
    "x_train = preproc_x(x_train)\n",
    "x_test = preproc_x(x_test)\n",
    "\n",
    "# Preprc the outputs\n",
    "y_train = preproc_y(y_train)\n",
    "y_test = preproc_y(y_test)"
   ]
  },
  {
   "cell_type": "code",
   "execution_count": 5,
   "metadata": {},
   "outputs": [],
   "source": [
    "from keras.layers import Dropout\n",
    "\n",
    "def build_mlp(input_shape, output_units=10, num_neurons=[512, 256, 128], drp_ratio=0.2):\n",
    "    input_layer = keras.layers.Input(input_shape)\n",
    "    \n",
    "    for i, n_units in enumerate(num_neurons):\n",
    "        if i == 0:\n",
    "            x = keras.layers.Dense(units=n_units, \n",
    "                                   activation=\"relu\", \n",
    "                                   name=\"hidden_layer\"+str(i+1))(input_layer)\n",
    "            x = Dropout(drp_ratio)(x)\n",
    "        else:\n",
    "            x = keras.layers.Dense(units=n_units, \n",
    "                                   activation=\"relu\", \n",
    "                                   name=\"hidden_layer\"+str(i+1))(x)\n",
    "            x = Dropout(drp_ratio)(x)\n",
    "    \n",
    "    out = keras.layers.Dense(units=output_units, activation=\"softmax\", name=\"output\")(x)\n",
    "    \n",
    "    model = keras.models.Model(inputs=[input_layer], outputs=[out])\n",
    "    return model"
   ]
  },
  {
   "cell_type": "code",
   "execution_count": 8,
   "metadata": {},
   "outputs": [],
   "source": [
    "\"\"\"Code Here\n",
    "設定超參數\n",
    "\"\"\"\n",
    "LEARNING_RATE = 1e-3\n",
    "EPOCHS = 30\n",
    "BATCH_SIZE = 256\n",
    "MOMENTUM = 0.95\n",
    "Dropout_EXP = [0.25,0.5]"
   ]
  },
  {
   "cell_type": "code",
   "execution_count": 9,
   "metadata": {
    "scrolled": true
   },
   "outputs": [
    {
     "name": "stdout",
     "output_type": "stream",
     "text": [
      "_________________________________________________________________\n",
      "Layer (type)                 Output Shape              Param #   \n",
      "=================================================================\n",
      "input_1 (InputLayer)         (None, 3072)              0         \n",
      "_________________________________________________________________\n",
      "hidden_layer1 (Dense)        (None, 512)               1573376   \n",
      "_________________________________________________________________\n",
      "dropout_1 (Dropout)          (None, 512)               0         \n",
      "_________________________________________________________________\n",
      "hidden_layer2 (Dense)        (None, 256)               131328    \n",
      "_________________________________________________________________\n",
      "dropout_2 (Dropout)          (None, 256)               0         \n",
      "_________________________________________________________________\n",
      "hidden_layer3 (Dense)        (None, 128)               32896     \n",
      "_________________________________________________________________\n",
      "dropout_3 (Dropout)          (None, 128)               0         \n",
      "_________________________________________________________________\n",
      "output (Dense)               (None, 10)                1290      \n",
      "=================================================================\n",
      "Total params: 1,738,890\n",
      "Trainable params: 1,738,890\n",
      "Non-trainable params: 0\n",
      "_________________________________________________________________\n",
      "Train on 50000 samples, validate on 10000 samples\n",
      "Epoch 1/30\n",
      "50000/50000 [==============================] - 16s 315us/step - loss: 2.0611 - acc: 0.2351 - val_loss: 1.8547 - val_acc: 0.3371\n",
      "Epoch 2/30\n",
      "50000/50000 [==============================] - 15s 305us/step - loss: 1.8810 - acc: 0.3190 - val_loss: 1.7799 - val_acc: 0.3690\n",
      "Epoch 3/30\n",
      "50000/50000 [==============================] - 16s 316us/step - loss: 1.8251 - acc: 0.3391 - val_loss: 1.7009 - val_acc: 0.3855\n",
      "Epoch 4/30\n",
      "50000/50000 [==============================] - 16s 312us/step - loss: 1.7771 - acc: 0.3591 - val_loss: 1.6630 - val_acc: 0.4079\n",
      "Epoch 5/30\n",
      "50000/50000 [==============================] - 15s 304us/step - loss: 1.7482 - acc: 0.3689 - val_loss: 1.6411 - val_acc: 0.4152\n",
      "Epoch 6/30\n",
      "50000/50000 [==============================] - 15s 301us/step - loss: 1.7335 - acc: 0.3745 - val_loss: 1.6439 - val_acc: 0.4088\n",
      "Epoch 7/30\n",
      "50000/50000 [==============================] - 15s 298us/step - loss: 1.7124 - acc: 0.3823 - val_loss: 1.6207 - val_acc: 0.4311\n",
      "Epoch 8/30\n",
      "50000/50000 [==============================] - 15s 295us/step - loss: 1.6924 - acc: 0.3906 - val_loss: 1.6007 - val_acc: 0.4345\n",
      "Epoch 9/30\n",
      "50000/50000 [==============================] - 15s 296us/step - loss: 1.6687 - acc: 0.3992 - val_loss: 1.6144 - val_acc: 0.4281\n",
      "Epoch 10/30\n",
      "50000/50000 [==============================] - 15s 309us/step - loss: 1.6657 - acc: 0.3999 - val_loss: 1.5825 - val_acc: 0.4439\n",
      "Epoch 11/30\n",
      "50000/50000 [==============================] - 16s 313us/step - loss: 1.6400 - acc: 0.4091 - val_loss: 1.5690 - val_acc: 0.4407\n",
      "Epoch 12/30\n",
      "50000/50000 [==============================] - 16s 329us/step - loss: 1.6407 - acc: 0.4074 - val_loss: 1.5606 - val_acc: 0.4454\n",
      "Epoch 13/30\n",
      "50000/50000 [==============================] - 15s 306us/step - loss: 1.6359 - acc: 0.4090 - val_loss: 1.5926 - val_acc: 0.4335\n",
      "Epoch 14/30\n",
      "50000/50000 [==============================] - 15s 300us/step - loss: 1.6263 - acc: 0.4131 - val_loss: 1.5476 - val_acc: 0.4572\n",
      "Epoch 15/30\n",
      "50000/50000 [==============================] - 15s 291us/step - loss: 1.6153 - acc: 0.4168 - val_loss: 1.5257 - val_acc: 0.4573\n",
      "Epoch 16/30\n",
      "50000/50000 [==============================] - 15s 292us/step - loss: 1.6031 - acc: 0.4220 - val_loss: 1.5433 - val_acc: 0.4545\n",
      "Epoch 17/30\n",
      "50000/50000 [==============================] - 15s 294us/step - loss: 1.5967 - acc: 0.4239 - val_loss: 1.5244 - val_acc: 0.4575\n",
      "Epoch 18/30\n",
      "50000/50000 [==============================] - 15s 292us/step - loss: 1.5923 - acc: 0.4292 - val_loss: 1.5079 - val_acc: 0.4693\n",
      "Epoch 19/30\n",
      "50000/50000 [==============================] - 15s 298us/step - loss: 1.5792 - acc: 0.4304 - val_loss: 1.5010 - val_acc: 0.4692\n",
      "Epoch 20/30\n",
      "50000/50000 [==============================] - 15s 310us/step - loss: 1.5754 - acc: 0.4326 - val_loss: 1.5274 - val_acc: 0.4642\n",
      "Epoch 21/30\n",
      "50000/50000 [==============================] - 17s 330us/step - loss: 1.5764 - acc: 0.4310 - val_loss: 1.5237 - val_acc: 0.4648\n",
      "Epoch 22/30\n",
      "50000/50000 [==============================] - 16s 320us/step - loss: 1.5660 - acc: 0.4354 - val_loss: 1.5198 - val_acc: 0.4651\n",
      "Epoch 23/30\n",
      "50000/50000 [==============================] - 15s 298us/step - loss: 1.5588 - acc: 0.4377 - val_loss: 1.4936 - val_acc: 0.4696\n",
      "Epoch 24/30\n",
      "50000/50000 [==============================] - 16s 318us/step - loss: 1.5565 - acc: 0.4418 - val_loss: 1.5047 - val_acc: 0.4667\n",
      "Epoch 25/30\n",
      "50000/50000 [==============================] - 15s 300us/step - loss: 1.5542 - acc: 0.4398 - val_loss: 1.4832 - val_acc: 0.4751\n",
      "Epoch 26/30\n",
      "50000/50000 [==============================] - 14s 288us/step - loss: 1.5589 - acc: 0.4383 - val_loss: 1.4946 - val_acc: 0.4733\n",
      "Epoch 27/30\n",
      "50000/50000 [==============================] - 15s 293us/step - loss: 1.5399 - acc: 0.4473 - val_loss: 1.4956 - val_acc: 0.4712\n",
      "Epoch 28/30\n",
      "50000/50000 [==============================] - 15s 299us/step - loss: 1.5372 - acc: 0.4476 - val_loss: 1.5037 - val_acc: 0.4654\n",
      "Epoch 29/30\n",
      "50000/50000 [==============================] - 15s 300us/step - loss: 1.5365 - acc: 0.4483 - val_loss: 1.4897 - val_acc: 0.4736\n",
      "Epoch 30/30\n",
      "50000/50000 [==============================] - 15s 299us/step - loss: 1.5303 - acc: 0.4482 - val_loss: 1.4640 - val_acc: 0.4808\n",
      "_________________________________________________________________\n",
      "Layer (type)                 Output Shape              Param #   \n",
      "=================================================================\n",
      "input_1 (InputLayer)         (None, 3072)              0         \n",
      "_________________________________________________________________\n",
      "hidden_layer1 (Dense)        (None, 512)               1573376   \n",
      "_________________________________________________________________\n",
      "dropout_1 (Dropout)          (None, 512)               0         \n",
      "_________________________________________________________________\n",
      "hidden_layer2 (Dense)        (None, 256)               131328    \n",
      "_________________________________________________________________\n",
      "dropout_2 (Dropout)          (None, 256)               0         \n",
      "_________________________________________________________________\n",
      "hidden_layer3 (Dense)        (None, 128)               32896     \n",
      "_________________________________________________________________\n",
      "dropout_3 (Dropout)          (None, 128)               0         \n",
      "_________________________________________________________________\n",
      "output (Dense)               (None, 10)                1290      \n",
      "=================================================================\n",
      "Total params: 1,738,890\n",
      "Trainable params: 1,738,890\n",
      "Non-trainable params: 0\n",
      "_________________________________________________________________\n",
      "Train on 50000 samples, validate on 10000 samples\n",
      "Epoch 1/30\n",
      "50000/50000 [==============================] - 15s 307us/step - loss: 2.2165 - acc: 0.1510 - val_loss: 2.0688 - val_acc: 0.2262\n",
      "Epoch 2/30\n",
      "50000/50000 [==============================] - 15s 296us/step - loss: 2.1143 - acc: 0.1836 - val_loss: 2.0448 - val_acc: 0.2373\n",
      "Epoch 3/30\n",
      "50000/50000 [==============================] - 15s 296us/step - loss: 2.0903 - acc: 0.1944 - val_loss: 2.0204 - val_acc: 0.2617\n",
      "Epoch 4/30\n",
      "50000/50000 [==============================] - 15s 297us/step - loss: 2.0767 - acc: 0.1975 - val_loss: 2.0432 - val_acc: 0.2523\n",
      "Epoch 5/30\n",
      "50000/50000 [==============================] - 15s 307us/step - loss: 2.0740 - acc: 0.2030 - val_loss: 1.9989 - val_acc: 0.2508\n",
      "Epoch 6/30\n",
      "50000/50000 [==============================] - 16s 315us/step - loss: 2.0587 - acc: 0.2088 - val_loss: 2.0034 - val_acc: 0.2748\n",
      "Epoch 7/30\n",
      "50000/50000 [==============================] - 16s 311us/step - loss: 2.0628 - acc: 0.2091 - val_loss: 1.9770 - val_acc: 0.2721\n",
      "Epoch 8/30\n",
      "50000/50000 [==============================] - 15s 308us/step - loss: 2.0530 - acc: 0.2105 - val_loss: 1.9918 - val_acc: 0.2613\n"
     ]
    },
    {
     "name": "stdout",
     "output_type": "stream",
     "text": [
      "Epoch 9/30\n",
      "50000/50000 [==============================] - 13s 255us/step - loss: 2.0449 - acc: 0.2165 - val_loss: 2.0474 - val_acc: 0.2379\n",
      "Epoch 10/30\n",
      "50000/50000 [==============================] - 13s 257us/step - loss: 2.0431 - acc: 0.2215 - val_loss: 1.9966 - val_acc: 0.2723\n",
      "Epoch 11/30\n",
      "50000/50000 [==============================] - 13s 256us/step - loss: 2.0367 - acc: 0.2231 - val_loss: 2.0236 - val_acc: 0.2509\n",
      "Epoch 12/30\n",
      "50000/50000 [==============================] - 13s 260us/step - loss: 2.0380 - acc: 0.2227 - val_loss: 1.9966 - val_acc: 0.2549\n",
      "Epoch 13/30\n",
      "50000/50000 [==============================] - 13s 255us/step - loss: 2.0317 - acc: 0.2240 - val_loss: 1.9735 - val_acc: 0.2751\n",
      "Epoch 14/30\n",
      "50000/50000 [==============================] - 13s 267us/step - loss: 2.0320 - acc: 0.2272 - val_loss: 2.0278 - val_acc: 0.2464\n",
      "Epoch 15/30\n",
      "50000/50000 [==============================] - 14s 271us/step - loss: 2.0314 - acc: 0.2246 - val_loss: 2.0566 - val_acc: 0.2494\n",
      "Epoch 16/30\n",
      "50000/50000 [==============================] - 13s 270us/step - loss: 2.0246 - acc: 0.2299 - val_loss: 2.0239 - val_acc: 0.2487\n",
      "Epoch 17/30\n",
      "50000/50000 [==============================] - 13s 268us/step - loss: 2.0225 - acc: 0.2319 - val_loss: 2.0217 - val_acc: 0.2586\n",
      "Epoch 18/30\n",
      "50000/50000 [==============================] - 13s 259us/step - loss: 2.0069 - acc: 0.2389 - val_loss: 2.0210 - val_acc: 0.2600\n",
      "Epoch 19/30\n",
      "50000/50000 [==============================] - 13s 256us/step - loss: 2.0087 - acc: 0.2373 - val_loss: 2.0550 - val_acc: 0.2425\n",
      "Epoch 20/30\n",
      "50000/50000 [==============================] - 13s 261us/step - loss: 2.0065 - acc: 0.2405 - val_loss: 2.0286 - val_acc: 0.2549\n",
      "Epoch 21/30\n",
      "50000/50000 [==============================] - 13s 259us/step - loss: 2.0082 - acc: 0.2384 - val_loss: 2.0187 - val_acc: 0.2674\n",
      "Epoch 22/30\n",
      "50000/50000 [==============================] - 13s 259us/step - loss: 2.0046 - acc: 0.2397 - val_loss: 2.0887 - val_acc: 0.2390\n",
      "Epoch 23/30\n",
      "50000/50000 [==============================] - 13s 266us/step - loss: 1.9952 - acc: 0.2460 - val_loss: 2.0756 - val_acc: 0.2475\n",
      "Epoch 24/30\n",
      "50000/50000 [==============================] - 15s 291us/step - loss: 1.9977 - acc: 0.2458 - val_loss: 2.0413 - val_acc: 0.2449\n",
      "Epoch 25/30\n",
      "50000/50000 [==============================] - 15s 293us/step - loss: 1.9968 - acc: 0.2460 - val_loss: 2.1003 - val_acc: 0.2300\n",
      "Epoch 26/30\n",
      "50000/50000 [==============================] - 14s 274us/step - loss: 1.9907 - acc: 0.2452 - val_loss: 2.0844 - val_acc: 0.2346\n",
      "Epoch 27/30\n",
      "50000/50000 [==============================] - 13s 267us/step - loss: 2.0001 - acc: 0.2465 - val_loss: 2.0716 - val_acc: 0.2334\n",
      "Epoch 28/30\n",
      "50000/50000 [==============================] - 13s 266us/step - loss: 1.9900 - acc: 0.2490 - val_loss: 2.0912 - val_acc: 0.2553\n",
      "Epoch 29/30\n",
      "50000/50000 [==============================] - 13s 265us/step - loss: 1.9952 - acc: 0.2473 - val_loss: 2.0665 - val_acc: 0.2475\n",
      "Epoch 30/30\n",
      "50000/50000 [==============================] - 13s 260us/step - loss: 1.9970 - acc: 0.2443 - val_loss: 2.1160 - val_acc: 0.2276\n"
     ]
    }
   ],
   "source": [
    "results = {}\n",
    "\"\"\"Code Here\n",
    "撰寫你的訓練流程並將結果用 dictionary 紀錄\n",
    "\"\"\"\n",
    "for myDp in Dropout_EXP:\n",
    "    keras.backend.clear_session() # 把舊的 Graph 清掉\n",
    "\n",
    "    model = build_mlp(input_shape=x_train.shape[1:], drp_ratio=myDp)\n",
    "\n",
    "    model.summary()\n",
    "    optimizer = keras.optimizers.Adam(lr=LEARNING_RATE, beta_1=0.9, beta_2=0.999)\n",
    "\n",
    "    model.compile(loss=\"categorical_crossentropy\", metrics=[\"accuracy\"], optimizer=optimizer)\n",
    "\n",
    "    model.fit(x_train, y_train, \n",
    "              epochs=EPOCHS, \n",
    "              batch_size=BATCH_SIZE, \n",
    "              validation_data=(x_test, y_test), \n",
    "              shuffle=True)\n",
    "\n",
    "    # Collect results\n",
    "    train_loss = model.history.history[\"loss\"]\n",
    "    valid_loss = model.history.history[\"val_loss\"]\n",
    "    train_acc = model.history.history[\"acc\"]\n",
    "    valid_acc = model.history.history[\"val_acc\"]\n",
    "\n",
    "    exp_name_tag = myDp\n",
    "    results[exp_name_tag] = {'train-loss': train_loss,\n",
    "                             'valid-loss': valid_loss,\n",
    "                             'train-acc': train_acc,\n",
    "                             'valid-acc': valid_acc}\n"
   ]
  },
  {
   "cell_type": "code",
   "execution_count": 10,
   "metadata": {},
   "outputs": [
    {
     "data": {
      "image/png": "[encoded data removed]",
      "text/plain": [
       "<Figure size 576x432 with 1 Axes>"
      ]
     },
     "metadata": {
      "needs_background": "light"
     },
     "output_type": "display_data"
    },
    {
     "data": {
      "image/png": "[encoded data removed]",
      "text/plain": [
       "<Figure size 576x432 with 1 Axes>"
      ]
     },
     "metadata": {
      "needs_background": "light"
     },
     "output_type": "display_data"
    }
   ],
   "source": [
    "import matplotlib.pyplot as plt\n",
    "%matplotlib inline\n",
    "\"\"\"Code Here\n",
    "將結果繪出\n",
    "\"\"\"\n",
    "color_bar = [\"r\",\"y\"]\n",
    "\n",
    "plt.figure(figsize=(8,6))\n",
    "for i, cond in enumerate(results.keys()):\n",
    "    plt.plot(range(len(results[cond]['train-loss'])),results[cond]['train-loss'], '-', label=cond, color=color_bar[i])\n",
    "    plt.plot(range(len(results[cond]['valid-loss'])),results[cond]['valid-loss'], '--', label=cond, color=color_bar[i])\n",
    "plt.title(\"Loss\")\n",
    "plt.ylim([0, 5])\n",
    "plt.legend()\n",
    "plt.show()\n",
    "\n",
    "plt.figure(figsize=(8,6))\n",
    "for i, cond in enumerate(results.keys()):\n",
    "    plt.plot(range(len(results[cond]['train-acc'])),results[cond]['train-acc'], '-', label=cond, color=color_bar[i])\n",
    "    plt.plot(range(len(results[cond]['valid-acc'])),results[cond]['valid-acc'], '--', label=cond, color=color_bar[i])\n",
    "plt.title(\"Accuracy\")\n",
    "plt.legend()\n",
    "plt.show()"
   ]
  }
 ],
 "metadata": {
  "kernelspec": {
   "display_name": "Python 3",
   "language": "python",
   "name": "python3"
  },
  "language_info": {
   "codemirror_mode": {
    "name": "ipython",
    "version": 3
   },
   "file_extension": ".py",
   "mimetype": "text/x-python",
   "name": "python",
   "nbconvert_exporter": "python",
   "pygments_lexer": "ipython3",
   "version": "3.7.3"
  }
 },
 "nbformat": 4,
 "nbformat_minor": 2
}
