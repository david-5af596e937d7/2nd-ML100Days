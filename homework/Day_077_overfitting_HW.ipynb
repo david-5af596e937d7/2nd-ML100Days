{
 "cells": [
  {
   "cell_type": "markdown",
   "metadata": {},
   "source": [
    "## Work\n",
    "1. 請將 Epoch 加到 500 個，並觀察 learning curve 的走勢\n",
    "2. 請將 Optimizer 換成 SGD，並觀察 learning curve 的走勢"
   ]
  },
  {
   "cell_type": "code",
   "execution_count": 1,
   "metadata": {},
   "outputs": [
    {
     "name": "stderr",
     "output_type": "stream",
     "text": [
      "Using TensorFlow backend.\n"
     ]
    }
   ],
   "source": [
    "import os\n",
    "import keras\n",
    "\n",
    "# 本作業可以不需使用 GPU, 將 GPU 設定為 \"無\" (若有 GPU 且想開啟，可設為 \"0\")\n",
    "os.environ[\"CUDA_VISIBLE_DEVICES\"] = \"\""
   ]
  },
  {
   "cell_type": "code",
   "execution_count": 2,
   "metadata": {},
   "outputs": [],
   "source": [
    "# 從 Keras 的內建功能中，取得 train 與 test 資料集\n",
    "train, test = keras.datasets.cifar10.load_data()"
   ]
  },
  {
   "cell_type": "code",
   "execution_count": 3,
   "metadata": {},
   "outputs": [],
   "source": [
    "# 將 X 與 Y 獨立放進變數\n",
    "x_train, y_train = train\n",
    "x_test, y_test = test\n",
    "# 資料前處理 - 標準化\n",
    "x_train = x_train / 255.\n",
    "x_test = x_test / 255.\n",
    "\n",
    "# 將資料從圖形 (RGB) 轉為向量 (Single Vector)\n",
    "x_train = x_train.reshape((len(x_train), -1))\n",
    "x_test = x_test.reshape((len(x_test), -1))\n",
    "\n",
    "# 將目標轉為 one-hot encoding\n",
    "y_train = keras.utils.to_categorical(y_train, num_classes=10)\n",
    "y_test = keras.utils.to_categorical(y_test, num_classes=10)"
   ]
  },
  {
   "cell_type": "code",
   "execution_count": 4,
   "metadata": {},
   "outputs": [
    {
     "name": "stderr",
     "output_type": "stream",
     "text": [
      "WARNING: Logging before flag parsing goes to stderr.\n",
      "W0731 23:22:28.953743  3456 deprecation_wrapper.py:119] From C:\\Users\\Win7\\Anaconda3\\lib\\site-packages\\keras\\backend\\tensorflow_backend.py:74: The name tf.get_default_graph is deprecated. Please use tf.compat.v1.get_default_graph instead.\n",
      "\n",
      "W0731 23:22:29.019747  3456 deprecation_wrapper.py:119] From C:\\Users\\Win7\\Anaconda3\\lib\\site-packages\\keras\\backend\\tensorflow_backend.py:517: The name tf.placeholder is deprecated. Please use tf.compat.v1.placeholder instead.\n",
      "\n",
      "W0731 23:22:29.069750  3456 deprecation_wrapper.py:119] From C:\\Users\\Win7\\Anaconda3\\lib\\site-packages\\keras\\backend\\tensorflow_backend.py:4138: The name tf.random_uniform is deprecated. Please use tf.random.uniform instead.\n",
      "\n"
     ]
    }
   ],
   "source": [
    "def build_mlp():\n",
    "    \"\"\"Code Here\n",
    "    建立你的神經網路\n",
    "    \"\"\"\n",
    "    input_layer = keras.layers.Input([x_train.shape[-1]])\n",
    "    x = keras.layers.Dense(units=512, activation=\"relu\")(input_layer)\n",
    "    x = keras.layers.Dense(units=128, activation=\"relu\")(x)\n",
    "    out = keras.layers.Dense(units=10, activation=\"softmax\")(x)\n",
    "    \n",
    "    model = keras.models.Model(inputs=[input_layer], outputs=[out])\n",
    "    return model\n",
    "model = build_mlp()"
   ]
  },
  {
   "cell_type": "code",
   "execution_count": 5,
   "metadata": {},
   "outputs": [
    {
     "name": "stderr",
     "output_type": "stream",
     "text": [
      "W0731 23:22:31.647897  3456 deprecation_wrapper.py:119] From C:\\Users\\Win7\\Anaconda3\\lib\\site-packages\\keras\\optimizers.py:790: The name tf.train.Optimizer is deprecated. Please use tf.compat.v1.train.Optimizer instead.\n",
      "\n",
      "W0731 23:22:31.663898  3456 deprecation_wrapper.py:119] From C:\\Users\\Win7\\Anaconda3\\lib\\site-packages\\keras\\backend\\tensorflow_backend.py:3295: The name tf.log is deprecated. Please use tf.math.log instead.\n",
      "\n"
     ]
    },
    {
     "name": "stdout",
     "output_type": "stream",
     "text": [
      "_________________________________________________________________\n",
      "Layer (type)                 Output Shape              Param #   \n",
      "=================================================================\n",
      "input_1 (InputLayer)         (None, 3072)              0         \n",
      "_________________________________________________________________\n",
      "dense_1 (Dense)              (None, 512)               1573376   \n",
      "_________________________________________________________________\n",
      "dense_2 (Dense)              (None, 128)               65664     \n",
      "_________________________________________________________________\n",
      "dense_3 (Dense)              (None, 10)                1290      \n",
      "=================================================================\n",
      "Total params: 1,640,330\n",
      "Trainable params: 1,640,330\n",
      "Non-trainable params: 0\n",
      "_________________________________________________________________\n"
     ]
    }
   ],
   "source": [
    "\"\"\"\n",
    "Compile 模型\n",
    "\"\"\"\n",
    "model.summary()\n",
    "\n",
    "optimizer = keras.optimizers.Adam(lr=0.001)\n",
    "model.compile(loss=\"categorical_crossentropy\", metrics=[\"accuracy\"], optimizer=optimizer)"
   ]
  },
  {
   "cell_type": "code",
   "execution_count": 7,
   "metadata": {
    "scrolled": true
   },
   "outputs": [
    {
     "name": "stderr",
     "output_type": "stream",
     "text": [
      "W0731 23:23:00.570552  3456 deprecation.py:323] From C:\\Users\\Win7\\Anaconda3\\lib\\site-packages\\tensorflow\\python\\ops\\math_grad.py:1250: add_dispatch_support.<locals>.wrapper (from tensorflow.python.ops.array_ops) is deprecated and will be removed in a future version.\n",
      "Instructions for updating:\n",
      "Use tf.where in 2.0, which has the same broadcast rule as np.where\n",
      "W0731 23:23:00.649556  3456 deprecation_wrapper.py:119] From C:\\Users\\Win7\\Anaconda3\\lib\\site-packages\\keras\\backend\\tensorflow_backend.py:986: The name tf.assign_add is deprecated. Please use tf.compat.v1.assign_add instead.\n",
      "\n"
     ]
    },
    {
     "name": "stdout",
     "output_type": "stream",
     "text": [
      "Train on 50000 samples, validate on 10000 samples\n",
      "Epoch 1/30\n",
      "50000/50000 [==============================] - 16s 329us/step - loss: 1.9307 - acc: 0.3068 - val_loss: 1.7880 - val_acc: 0.3708\n",
      "Epoch 2/30\n",
      "50000/50000 [==============================] - 16s 313us/step - loss: 1.7256 - acc: 0.3878 - val_loss: 1.6628 - val_acc: 0.4141\n",
      "Epoch 3/30\n",
      "50000/50000 [==============================] - 15s 297us/step - loss: 1.6417 - acc: 0.4146 - val_loss: 1.6069 - val_acc: 0.4265\n",
      "Epoch 4/30\n",
      "50000/50000 [==============================] - 14s 289us/step - loss: 1.5803 - acc: 0.4363 - val_loss: 1.5673 - val_acc: 0.4476\n",
      "Epoch 5/30\n",
      "50000/50000 [==============================] - 14s 284us/step - loss: 1.5300 - acc: 0.4546 - val_loss: 1.5546 - val_acc: 0.4460\n",
      "Epoch 6/30\n",
      "50000/50000 [==============================] - 15s 290us/step - loss: 1.4932 - acc: 0.4692 - val_loss: 1.5404 - val_acc: 0.4556\n",
      "Epoch 7/30\n",
      "50000/50000 [==============================] - 17s 336us/step - loss: 1.4686 - acc: 0.4773 - val_loss: 1.4854 - val_acc: 0.4691\n",
      "Epoch 8/30\n",
      "50000/50000 [==============================] - 16s 327us/step - loss: 1.4387 - acc: 0.4885 - val_loss: 1.4579 - val_acc: 0.4839\n",
      "Epoch 9/30\n",
      "50000/50000 [==============================] - 15s 307us/step - loss: 1.4127 - acc: 0.4978 - val_loss: 1.4352 - val_acc: 0.4921\n",
      "Epoch 10/30\n",
      "50000/50000 [==============================] - 16s 310us/step - loss: 1.3963 - acc: 0.5046 - val_loss: 1.5049 - val_acc: 0.4651\n",
      "Epoch 11/30\n",
      "50000/50000 [==============================] - 15s 300us/step - loss: 1.3748 - acc: 0.5099 - val_loss: 1.4459 - val_acc: 0.4865\n",
      "Epoch 12/30\n",
      "50000/50000 [==============================] - 15s 305us/step - loss: 1.3512 - acc: 0.5200 - val_loss: 1.4004 - val_acc: 0.5071\n",
      "Epoch 13/30\n",
      "50000/50000 [==============================] - 16s 320us/step - loss: 1.3307 - acc: 0.5273 - val_loss: 1.4594 - val_acc: 0.4807\n",
      "Epoch 14/30\n",
      "50000/50000 [==============================] - 16s 325us/step - loss: 1.3238 - acc: 0.5291 - val_loss: 1.4401 - val_acc: 0.4927\n",
      "Epoch 15/30\n",
      "50000/50000 [==============================] - 16s 321us/step - loss: 1.2989 - acc: 0.5376 - val_loss: 1.4107 - val_acc: 0.5033\n",
      "Epoch 16/30\n",
      "50000/50000 [==============================] - 16s 314us/step - loss: 1.2763 - acc: 0.5480 - val_loss: 1.3850 - val_acc: 0.5113\n",
      "Epoch 17/30\n",
      "50000/50000 [==============================] - 15s 299us/step - loss: 1.2608 - acc: 0.5506 - val_loss: 1.3848 - val_acc: 0.5131\n",
      "Epoch 18/30\n",
      "50000/50000 [==============================] - 15s 307us/step - loss: 1.2389 - acc: 0.5611 - val_loss: 1.4146 - val_acc: 0.5023\n",
      "Epoch 19/30\n",
      "50000/50000 [==============================] - 15s 301us/step - loss: 1.2358 - acc: 0.5614 - val_loss: 1.4227 - val_acc: 0.5032\n",
      "Epoch 20/30\n",
      "50000/50000 [==============================] - 16s 327us/step - loss: 1.2082 - acc: 0.5706 - val_loss: 1.3963 - val_acc: 0.5089\n",
      "Epoch 21/30\n",
      "50000/50000 [==============================] - 17s 333us/step - loss: 1.1975 - acc: 0.5758 - val_loss: 1.3890 - val_acc: 0.5090\n",
      "Epoch 22/30\n",
      "50000/50000 [==============================] - 18s 363us/step - loss: 1.1931 - acc: 0.5764 - val_loss: 1.3938 - val_acc: 0.5188\n",
      "Epoch 23/30\n",
      "50000/50000 [==============================] - 17s 346us/step - loss: 1.1737 - acc: 0.5834 - val_loss: 1.3886 - val_acc: 0.5113\n",
      "Epoch 24/30\n",
      "50000/50000 [==============================] - 14s 288us/step - loss: 1.1563 - acc: 0.5884 - val_loss: 1.3769 - val_acc: 0.5181\n",
      "Epoch 25/30\n",
      "50000/50000 [==============================] - 14s 286us/step - loss: 1.1514 - acc: 0.5912 - val_loss: 1.3843 - val_acc: 0.5116\n",
      "Epoch 26/30\n",
      "50000/50000 [==============================] - 15s 294us/step - loss: 1.1268 - acc: 0.6023 - val_loss: 1.3811 - val_acc: 0.5211\n",
      "Epoch 27/30\n",
      "50000/50000 [==============================] - 16s 311us/step - loss: 1.1226 - acc: 0.5999 - val_loss: 1.4060 - val_acc: 0.5094\n",
      "Epoch 28/30\n",
      "50000/50000 [==============================] - 15s 304us/step - loss: 1.1098 - acc: 0.6060 - val_loss: 1.3998 - val_acc: 0.5147\n",
      "Epoch 29/30\n",
      "50000/50000 [==============================] - 15s 305us/step - loss: 1.0990 - acc: 0.6083 - val_loss: 1.3560 - val_acc: 0.5270\n",
      "Epoch 30/30\n",
      "50000/50000 [==============================] - 15s 297us/step - loss: 1.0749 - acc: 0.6180 - val_loss: 1.3600 - val_acc: 0.5319\n"
     ]
    },
    {
     "data": {
      "text/plain": [
       "<keras.callbacks.History at 0x17e44128>"
      ]
     },
     "execution_count": 7,
     "metadata": {},
     "output_type": "execute_result"
    }
   ],
   "source": [
    "\"\"\"\n",
    "設定要訓練的 Epoch 數\n",
    "\"\"\"\n",
    "model.fit(x_train, y_train, \n",
    "          epochs=30, \n",
    "          batch_size=256, \n",
    "          validation_data=(x_test, y_test), \n",
    "          shuffle=True)"
   ]
  },
  {
   "cell_type": "code",
   "execution_count": 9,
   "metadata": {},
   "outputs": [
    {
     "data": {
      "image/png": "[encoded data removed]",
      "text/plain": [
       "<Figure size 432x288 with 1 Axes>"
      ]
     },
     "metadata": {
      "needs_background": "light"
     },
     "output_type": "display_data"
    },
    {
     "data": {
      "image/png": "[encoded data removed]",
      "text/plain": [
       "<Figure size 432x288 with 1 Axes>"
      ]
     },
     "metadata": {
      "needs_background": "light"
     },
     "output_type": "display_data"
    }
   ],
   "source": [
    "import matplotlib.pyplot as plt\n",
    "# 以視覺畫方式檢視訓練過程\n",
    "\n",
    "train_loss = model.history.history[\"loss\"]\n",
    "valid_loss = model.history.history[\"val_loss\"]\n",
    "\n",
    "train_acc = model.history.history[\"acc\"]\n",
    "valid_acc = model.history.history[\"val_acc\"]\n",
    "\n",
    "plt.plot(range(len(train_loss)), train_loss, label=\"train loss\")\n",
    "plt.plot(range(len(valid_loss)), valid_loss, label=\"valid loss\")\n",
    "plt.legend()\n",
    "plt.title(\"Loss\")\n",
    "plt.show()\n",
    "\n",
    "plt.plot(range(len(train_acc)), train_acc, label=\"train accuracy\")\n",
    "plt.plot(range(len(valid_acc)), valid_acc, label=\"valid accuracy\")\n",
    "plt.legend()\n",
    "plt.title(\"Accuracy\")\n",
    "plt.show()"
   ]
  }
 ],
 "metadata": {
  "kernelspec": {
   "display_name": "Python 3",
   "language": "python",
   "name": "python3"
  },
  "language_info": {
   "codemirror_mode": {
    "name": "ipython",
    "version": 3
   },
   "file_extension": ".py",
   "mimetype": "text/x-python",
   "name": "python",
   "nbconvert_exporter": "python",
   "pygments_lexer": "ipython3",
   "version": "3.7.3"
  }
 },
 "nbformat": 4,
 "nbformat_minor": 2
}
