{
 "cells": [
  {
   "cell_type": "markdown",
   "metadata": {},
   "source": [
    "## Work\n",
    "1. 試比較 save_best_only 與否的差異\n",
    "2. 請僅存入將 save_weights_only 設定為 True, 並嘗試 reset ipynb 並將模型與權重重新建回並預測 x_test"
   ]
  },
  {
   "cell_type": "code",
   "execution_count": 1,
   "metadata": {},
   "outputs": [
    {
     "name": "stderr",
     "output_type": "stream",
     "text": [
      "Using TensorFlow backend.\n"
     ]
    }
   ],
   "source": [
    "import os\n",
    "import keras\n",
    "\n",
    "# Disable GPU\n",
    "os.environ[\"CUDA_VISIBLE_DEVICES\"] = \"\""
   ]
  },
  {
   "cell_type": "code",
   "execution_count": 2,
   "metadata": {},
   "outputs": [],
   "source": [
    "train, test = keras.datasets.cifar10.load_data()"
   ]
  },
  {
   "cell_type": "code",
   "execution_count": 3,
   "metadata": {},
   "outputs": [],
   "source": [
    "## 資料前處理\n",
    "def preproc_x(x, flatten=True):\n",
    "    x = x / 255.\n",
    "    if flatten:\n",
    "        x = x.reshape((len(x), -1))\n",
    "    return x\n",
    "\n",
    "def preproc_y(y, num_classes=10):\n",
    "    if y.shape[-1] == 1:\n",
    "        y = keras.utils.to_categorical(y, num_classes)\n",
    "    return y    "
   ]
  },
  {
   "cell_type": "code",
   "execution_count": 4,
   "metadata": {},
   "outputs": [],
   "source": [
    "x_train, y_train = train\n",
    "x_test, y_test = test\n",
    "\n",
    "# Preproc the inputs\n",
    "x_train = preproc_x(x_train)\n",
    "x_test = preproc_x(x_test)\n",
    "\n",
    "# Preprc the outputs\n",
    "y_train = preproc_y(y_train)\n",
    "y_test = preproc_y(y_test)"
   ]
  },
  {
   "cell_type": "code",
   "execution_count": 5,
   "metadata": {},
   "outputs": [],
   "source": [
    "from keras.layers import BatchNormalization\n",
    "\n",
    "\"\"\"\n",
    "建立神經網路，並加入 BN layer\n",
    "\"\"\"\n",
    "def build_mlp(input_shape, output_units=10, num_neurons=[512, 256, 128]):\n",
    "    input_layer = keras.layers.Input(input_shape)\n",
    "    \n",
    "    for i, n_units in enumerate(num_neurons):\n",
    "        if i == 0:\n",
    "            x = keras.layers.Dense(units=n_units, \n",
    "                                   activation=\"relu\", \n",
    "                                   name=\"hidden_layer\"+str(i+1))(input_layer)\n",
    "            x = BatchNormalization()(x)\n",
    "        else:\n",
    "            x = keras.layers.Dense(units=n_units, \n",
    "                                   activation=\"relu\", \n",
    "                                   name=\"hidden_layer\"+str(i+1))(x)\n",
    "            x = BatchNormalization()(x)\n",
    "    \n",
    "    out = keras.layers.Dense(units=output_units, activation=\"softmax\", name=\"output\")(x)\n",
    "    \n",
    "    model = keras.models.Model(inputs=[input_layer], outputs=[out])\n",
    "    return model"
   ]
  },
  {
   "cell_type": "code",
   "execution_count": 16,
   "metadata": {},
   "outputs": [],
   "source": [
    "## 超參數設定\n",
    "LEARNING_RATE = 1e-3\n",
    "EPOCHS = 50\n",
    "BATCH_SIZE = 1024\n",
    "MOMENTUM = 0.95"
   ]
  },
  {
   "cell_type": "code",
   "execution_count": 19,
   "metadata": {},
   "outputs": [],
   "source": [
    "from keras.callbacks import ModelCheckpoint\n",
    "\n",
    "# model_ckpt = ModelCheckpoint(filepath=\"./tmp_falseBest.h5\", \n",
    "#                              monitor=\"val_loss\", \n",
    "#                              save_best_only=False)\n",
    "\n",
    "model_ckpt = ModelCheckpoint(filepath=\"./tmp_TrueBest.h5\", \n",
    "                             monitor=\"val_loss\", \n",
    "                             save_best_only=True)"
   ]
  },
  {
   "cell_type": "code",
   "execution_count": 21,
   "metadata": {},
   "outputs": [
    {
     "name": "stdout",
     "output_type": "stream",
     "text": [
      "_________________________________________________________________\n",
      "Layer (type)                 Output Shape              Param #   \n",
      "=================================================================\n",
      "input_5 (InputLayer)         (None, 3072)              0         \n",
      "_________________________________________________________________\n",
      "hidden_layer1 (Dense)        (None, 512)               1573376   \n",
      "_________________________________________________________________\n",
      "batch_normalization_13 (Batc (None, 512)               2048      \n",
      "_________________________________________________________________\n",
      "hidden_layer2 (Dense)        (None, 256)               131328    \n",
      "_________________________________________________________________\n",
      "batch_normalization_14 (Batc (None, 256)               1024      \n",
      "_________________________________________________________________\n",
      "hidden_layer3 (Dense)        (None, 128)               32896     \n",
      "_________________________________________________________________\n",
      "batch_normalization_15 (Batc (None, 128)               512       \n",
      "_________________________________________________________________\n",
      "output (Dense)               (None, 10)                1290      \n",
      "=================================================================\n",
      "Total params: 1,742,474\n",
      "Trainable params: 1,740,682\n",
      "Non-trainable params: 1,792\n",
      "_________________________________________________________________\n",
      "Train on 50000 samples, validate on 10000 samples\n",
      "Epoch 1/50\n",
      "50000/50000 [==============================] - 11s 229us/step - loss: 2.2376 - acc: 0.2662 - val_loss: 2.0390 - val_acc: 0.3211\n",
      "Epoch 2/50\n",
      "50000/50000 [==============================] - 9s 178us/step - loss: 1.7372 - acc: 0.3944 - val_loss: 1.8171 - val_acc: 0.3678\n",
      "Epoch 3/50\n",
      "50000/50000 [==============================] - 9s 183us/step - loss: 1.6193 - acc: 0.4337 - val_loss: 1.6803 - val_acc: 0.4077\n",
      "Epoch 4/50\n",
      "50000/50000 [==============================] - 9s 183us/step - loss: 1.5489 - acc: 0.4572 - val_loss: 1.6283 - val_acc: 0.4266\n",
      "Epoch 5/50\n",
      "50000/50000 [==============================] - 9s 178us/step - loss: 1.4958 - acc: 0.4752 - val_loss: 1.5916 - val_acc: 0.4364\n",
      "Epoch 6/50\n",
      "50000/50000 [==============================] - 9s 188us/step - loss: 1.4530 - acc: 0.4920 - val_loss: 1.5535 - val_acc: 0.4526\n",
      "Epoch 7/50\n",
      "50000/50000 [==============================] - 10s 191us/step - loss: 1.4161 - acc: 0.5051 - val_loss: 1.5415 - val_acc: 0.4588\n",
      "Epoch 8/50\n",
      "50000/50000 [==============================] - 10s 204us/step - loss: 1.3797 - acc: 0.5185 - val_loss: 1.5290 - val_acc: 0.4647\n",
      "Epoch 9/50\n",
      "50000/50000 [==============================] - 9s 187us/step - loss: 1.3484 - acc: 0.5294 - val_loss: 1.5054 - val_acc: 0.4709\n",
      "Epoch 10/50\n",
      "50000/50000 [==============================] - 10s 199us/step - loss: 1.3198 - acc: 0.5387 - val_loss: 1.4937 - val_acc: 0.4724\n",
      "Epoch 11/50\n",
      "50000/50000 [==============================] - 10s 196us/step - loss: 1.2923 - acc: 0.5508 - val_loss: 1.4845 - val_acc: 0.4799\n",
      "Epoch 12/50\n",
      "50000/50000 [==============================] - 11s 210us/step - loss: 1.2653 - acc: 0.5601 - val_loss: 1.4758 - val_acc: 0.4804\n",
      "Epoch 13/50\n",
      "50000/50000 [==============================] - 10s 201us/step - loss: 1.2416 - acc: 0.5700 - val_loss: 1.4670 - val_acc: 0.4815\n",
      "Epoch 14/50\n",
      "50000/50000 [==============================] - 10s 191us/step - loss: 1.2167 - acc: 0.5777 - val_loss: 1.4623 - val_acc: 0.4860\n",
      "Epoch 15/50\n",
      "50000/50000 [==============================] - 9s 187us/step - loss: 1.1932 - acc: 0.5877 - val_loss: 1.4672 - val_acc: 0.4848\n",
      "Epoch 16/50\n",
      "50000/50000 [==============================] - 9s 186us/step - loss: 1.1709 - acc: 0.5954 - val_loss: 1.4601 - val_acc: 0.4850\n",
      "Epoch 17/50\n",
      "50000/50000 [==============================] - 9s 178us/step - loss: 1.1464 - acc: 0.6043 - val_loss: 1.4667 - val_acc: 0.4873\n",
      "Epoch 18/50\n",
      "50000/50000 [==============================] - 9s 175us/step - loss: 1.1239 - acc: 0.6134 - val_loss: 1.4568 - val_acc: 0.4884\n",
      "Epoch 19/50\n",
      "50000/50000 [==============================] - 9s 177us/step - loss: 1.1039 - acc: 0.6204 - val_loss: 1.4561 - val_acc: 0.4944\n",
      "Epoch 20/50\n",
      "50000/50000 [==============================] - 10s 191us/step - loss: 1.0835 - acc: 0.6280 - val_loss: 1.4568 - val_acc: 0.4883\n",
      "Epoch 21/50\n",
      "50000/50000 [==============================] - 10s 206us/step - loss: 1.0629 - acc: 0.6361 - val_loss: 1.4553 - val_acc: 0.4911\n",
      "Epoch 22/50\n",
      "50000/50000 [==============================] - 11s 214us/step - loss: 1.0422 - acc: 0.6433 - val_loss: 1.4419 - val_acc: 0.4993\n",
      "Epoch 23/50\n",
      "50000/50000 [==============================] - 10s 202us/step - loss: 1.0196 - acc: 0.6544 - val_loss: 1.4597 - val_acc: 0.4936\n",
      "Epoch 24/50\n",
      "50000/50000 [==============================] - 10s 197us/step - loss: 0.9991 - acc: 0.6611 - val_loss: 1.4530 - val_acc: 0.4977\n",
      "Epoch 25/50\n",
      "50000/50000 [==============================] - 10s 195us/step - loss: 0.9800 - acc: 0.6696 - val_loss: 1.4660 - val_acc: 0.5001\n",
      "Epoch 26/50\n",
      "50000/50000 [==============================] - 9s 180us/step - loss: 0.9609 - acc: 0.6757 - val_loss: 1.4437 - val_acc: 0.5058\n",
      "Epoch 27/50\n",
      "50000/50000 [==============================] - 9s 181us/step - loss: 0.9391 - acc: 0.6854 - val_loss: 1.4690 - val_acc: 0.4959\n",
      "Epoch 28/50\n",
      "50000/50000 [==============================] - 9s 186us/step - loss: 0.9215 - acc: 0.6923 - val_loss: 1.4602 - val_acc: 0.5021\n",
      "Epoch 29/50\n",
      "50000/50000 [==============================] - 9s 185us/step - loss: 0.9012 - acc: 0.6993 - val_loss: 1.4735 - val_acc: 0.4993\n",
      "Epoch 30/50\n",
      "50000/50000 [==============================] - 10s 190us/step - loss: 0.8819 - acc: 0.7088 - val_loss: 1.4687 - val_acc: 0.5009\n",
      "Epoch 31/50\n",
      "50000/50000 [==============================] - 9s 183us/step - loss: 0.8623 - acc: 0.7150 - val_loss: 1.4836 - val_acc: 0.4965\n",
      "Epoch 32/50\n",
      "50000/50000 [==============================] - 9s 180us/step - loss: 0.8442 - acc: 0.7232 - val_loss: 1.4785 - val_acc: 0.4976\n",
      "Epoch 33/50\n",
      "50000/50000 [==============================] - 10s 203us/step - loss: 0.8252 - acc: 0.7311 - val_loss: 1.4970 - val_acc: 0.5019\n",
      "Epoch 34/50\n",
      "50000/50000 [==============================] - 9s 184us/step - loss: 0.8067 - acc: 0.7377 - val_loss: 1.5023 - val_acc: 0.4980\n",
      "Epoch 35/50\n",
      "50000/50000 [==============================] - 11s 211us/step - loss: 0.7881 - acc: 0.7457 - val_loss: 1.4965 - val_acc: 0.5036\n",
      "Epoch 36/50\n",
      "50000/50000 [==============================] - 10s 194us/step - loss: 0.7702 - acc: 0.7523 - val_loss: 1.4974 - val_acc: 0.4987\n",
      "Epoch 37/50\n",
      "50000/50000 [==============================] - 10s 195us/step - loss: 0.7477 - acc: 0.7604 - val_loss: 1.5018 - val_acc: 0.4997\n",
      "Epoch 38/50\n",
      "50000/50000 [==============================] - 9s 187us/step - loss: 0.7327 - acc: 0.7683 - val_loss: 1.5275 - val_acc: 0.4967\n",
      "Epoch 39/50\n",
      "50000/50000 [==============================] - 9s 172us/step - loss: 0.7159 - acc: 0.7731 - val_loss: 1.5614 - val_acc: 0.4869\n",
      "Epoch 40/50\n",
      "50000/50000 [==============================] - 9s 174us/step - loss: 0.6964 - acc: 0.7812 - val_loss: 1.5421 - val_acc: 0.4996\n",
      "Epoch 41/50\n",
      "50000/50000 [==============================] - 9s 178us/step - loss: 0.6780 - acc: 0.7873 - val_loss: 1.5646 - val_acc: 0.4921\n",
      "Epoch 42/50\n",
      "50000/50000 [==============================] - 9s 186us/step - loss: 0.6602 - acc: 0.7969 - val_loss: 1.5590 - val_acc: 0.4962\n",
      "Epoch 43/50\n",
      "50000/50000 [==============================] - 10s 195us/step - loss: 0.6405 - acc: 0.8036 - val_loss: 1.5589 - val_acc: 0.5004\n",
      "Epoch 44/50\n",
      "50000/50000 [==============================] - 10s 191us/step - loss: 0.6261 - acc: 0.8094 - val_loss: 1.5824 - val_acc: 0.4965\n",
      "Epoch 45/50\n",
      "50000/50000 [==============================] - 10s 208us/step - loss: 0.6076 - acc: 0.8163 - val_loss: 1.5913 - val_acc: 0.4975\n",
      "Epoch 46/50\n",
      "50000/50000 [==============================] - 11s 212us/step - loss: 0.5932 - acc: 0.8217 - val_loss: 1.6100 - val_acc: 0.4958\n",
      "Epoch 47/50\n",
      "50000/50000 [==============================] - 10s 206us/step - loss: 0.5748 - acc: 0.8302 - val_loss: 1.6137 - val_acc: 0.4992\n",
      "Epoch 48/50\n",
      "50000/50000 [==============================] - 11s 216us/step - loss: 0.5567 - acc: 0.8350 - val_loss: 1.6247 - val_acc: 0.4917\n",
      "Epoch 49/50\n"
     ]
    },
    {
     "name": "stdout",
     "output_type": "stream",
     "text": [
      "50000/50000 [==============================] - 11s 214us/step - loss: 0.5399 - acc: 0.8431 - val_loss: 1.6318 - val_acc: 0.4934\n",
      "Epoch 50/50\n",
      "50000/50000 [==============================] - 11s 210us/step - loss: 0.5242 - acc: 0.8490 - val_loss: 1.6510 - val_acc: 0.4890\n"
     ]
    }
   ],
   "source": [
    "model = build_mlp(input_shape=x_train.shape[1:])\n",
    "model.summary()\n",
    "optimizer = keras.optimizers.SGD(lr=LEARNING_RATE, nesterov=True, momentum=MOMENTUM)\n",
    "model.compile(loss=\"categorical_crossentropy\", metrics=[\"accuracy\"], optimizer=optimizer)\n",
    "\n",
    "model.fit(x_train, y_train, \n",
    "          epochs=EPOCHS, \n",
    "          batch_size=BATCH_SIZE, \n",
    "          validation_data=(x_test, y_test), \n",
    "          shuffle=True,\n",
    "          callbacks=[model_ckpt]\n",
    "         )\n",
    "\n",
    "# Collect results\n",
    "train_loss = model.history.history[\"loss\"]\n",
    "valid_loss = model.history.history[\"val_loss\"]\n",
    "train_acc = model.history.history[\"acc\"]\n",
    "valid_acc = model.history.history[\"val_acc\"]"
   ]
  },
  {
   "cell_type": "code",
   "execution_count": 33,
   "metadata": {},
   "outputs": [
    {
     "name": "stdout",
     "output_type": "stream",
     "text": [
      "10000/10000 [==============================] - 3s 290us/step\n",
      "loss: 1.4419029304504394 ,acc: 0.4993\n"
     ]
    }
   ],
   "source": [
    "# Load back\n",
    "model = keras.models.load_model(\"./tmp_falseBest.h5\")\n",
    "loss_loadback, acc_loadback = model.evaluate(x_test, y_test)\n",
    "print('loss:',loss_loadback,',acc:',acc_loadback)"
   ]
  },
  {
   "cell_type": "code",
   "execution_count": 35,
   "metadata": {},
   "outputs": [
    {
     "name": "stdout",
     "output_type": "stream",
     "text": [
      "10000/10000 [==============================] - 2s 236us/step\n",
      "loss: 1.4606724212646485 ,acc: 0.4852\n"
     ]
    }
   ],
   "source": [
    "# Load back\n",
    "model = keras.models.load_model(\"./tmp_TrueBest.h5\")\n",
    "loss_loadback, acc_loadback = model.evaluate(x_test, y_test)\n",
    "print('loss:',loss_loadback,',acc:',acc_loadback)"
   ]
  }
 ],
 "metadata": {
  "kernelspec": {
   "display_name": "Python 3",
   "language": "python",
   "name": "python3"
  },
  "language_info": {
   "codemirror_mode": {
    "name": "ipython",
    "version": 3
   },
   "file_extension": ".py",
   "mimetype": "text/x-python",
   "name": "python",
   "nbconvert_exporter": "python",
   "pygments_lexer": "ipython3",
   "version": "3.7.3"
  }
 },
 "nbformat": 4,
 "nbformat_minor": 2
}
