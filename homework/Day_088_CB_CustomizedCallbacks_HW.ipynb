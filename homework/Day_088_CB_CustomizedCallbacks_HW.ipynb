{
 "cells": [
  {
   "cell_type": "markdown",
   "metadata": {},
   "source": [
    "## Work\n",
    "1. 請嘗試寫一個 callback 用來記錄各類別在訓練過程中，對驗證集的 True Positive 與 True Negative"
   ]
  },
  {
   "cell_type": "code",
   "execution_count": 1,
   "metadata": {},
   "outputs": [
    {
     "name": "stderr",
     "output_type": "stream",
     "text": [
      "Using TensorFlow backend.\n"
     ]
    }
   ],
   "source": [
    "import os\n",
    "import keras\n",
    "\n",
    "# Disable GPU\n",
    "os.environ[\"CUDA_VISIBLE_DEVICES\"] = \"\""
   ]
  },
  {
   "cell_type": "code",
   "execution_count": 2,
   "metadata": {},
   "outputs": [],
   "source": [
    "train, test = keras.datasets.cifar10.load_data()"
   ]
  },
  {
   "cell_type": "code",
   "execution_count": 3,
   "metadata": {},
   "outputs": [],
   "source": [
    "## 資料前處理\n",
    "def preproc_x(x, flatten=True):\n",
    "    x = x / 255.\n",
    "    if flatten:\n",
    "        x = x.reshape((len(x), -1))\n",
    "    return x\n",
    "\n",
    "def preproc_y(y, num_classes=10):\n",
    "    if y.shape[-1] == 1:\n",
    "        y = keras.utils.to_categorical(y, num_classes)\n",
    "    return y    "
   ]
  },
  {
   "cell_type": "code",
   "execution_count": 4,
   "metadata": {},
   "outputs": [],
   "source": [
    "x_train, y_train = train\n",
    "x_test, y_test = test\n",
    "\n",
    "# Preproc the inputs\n",
    "x_train = preproc_x(x_train)\n",
    "x_test = preproc_x(x_test)\n",
    "\n",
    "# Preprc the outputs\n",
    "y_train = preproc_y(y_train)\n",
    "y_test = preproc_y(y_test)"
   ]
  },
  {
   "cell_type": "code",
   "execution_count": 5,
   "metadata": {},
   "outputs": [],
   "source": [
    "from keras.layers import BatchNormalization\n",
    "\n",
    "\"\"\"\n",
    "建立神經網路，並加入 BN layer\n",
    "\"\"\"\n",
    "def build_mlp(input_shape, output_units=10, num_neurons=[512, 256, 128]):\n",
    "    input_layer = keras.layers.Input(input_shape)\n",
    "    \n",
    "    for i, n_units in enumerate(num_neurons):\n",
    "        if i == 0:\n",
    "            x = keras.layers.Dense(units=n_units, \n",
    "                                   activation=\"relu\", \n",
    "                                   name=\"hidden_layer\"+str(i+1))(input_layer)\n",
    "            x = BatchNormalization()(x)\n",
    "        else:\n",
    "            x = keras.layers.Dense(units=n_units, \n",
    "                                   activation=\"relu\", \n",
    "                                   name=\"hidden_layer\"+str(i+1))(x)\n",
    "            x = BatchNormalization()(x)\n",
    "    \n",
    "    out = keras.layers.Dense(units=output_units, activation=\"softmax\", name=\"output\")(x)\n",
    "    \n",
    "    model = keras.models.Model(inputs=[input_layer], outputs=[out])\n",
    "    return model"
   ]
  },
  {
   "cell_type": "code",
   "execution_count": 7,
   "metadata": {},
   "outputs": [],
   "source": [
    "## 超參數設定\n",
    "LEARNING_RATE = 1e-3\n",
    "EPOCHS = 25\n",
    "BATCH_SIZE = 1024\n",
    "MOMENTUM = 0.95"
   ]
  },
  {
   "cell_type": "code",
   "execution_count": 11,
   "metadata": {},
   "outputs": [],
   "source": [
    "# 載入 Callbacks\n",
    "from keras.callbacks import Callback\n",
    "import numpy as np\n",
    "# Record_fp_tp\n",
    "class Record_tp_tn(Callback):\n",
    "    \"\"\"Code Here\n",
    "    撰寫一個紀錄 ture positive 與 true negative 數量的 callbacks    \n",
    "    \"\"\"\n",
    "    def on_train_begin(self, epoch, logs = {}):\n",
    "        logs = logs or {}\n",
    "        record_items = [\"val_tp\", \"val_tn\"]\n",
    "        for i in record_items:\n",
    "            if i not in self.params['metrics']:\n",
    "                self.params['metrics'].append(i)\n",
    "    \n",
    "    def on_epoch_end(self, epoch, logs = {}, thres=0.5):\n",
    "        logs = logs or {}\n",
    "        y_true = self.validation_data[1].argmax(axis = 1)\n",
    "        y_pred = self.model.predict(self.validation_data[0])\n",
    "        y_pred = (y_pred[:, 1] >= thres) * 1\n",
    "        \n",
    "        logs[\"val_tp\"] = np.sum(np.logical_and(y_true == 1, y_pred == 1))\n",
    "        logs[\"val_tn\"] = np.sum(np.logical_and(y_true == 0, y_pred == 0))\n",
    "\n",
    "rec_tptn = Record_tp_tn()"
   ]
  },
  {
   "cell_type": "code",
   "execution_count": 12,
   "metadata": {
    "scrolled": true
   },
   "outputs": [
    {
     "name": "stdout",
     "output_type": "stream",
     "text": [
      "_________________________________________________________________\n",
      "Layer (type)                 Output Shape              Param #   \n",
      "=================================================================\n",
      "input_3 (InputLayer)         (None, 3072)              0         \n",
      "_________________________________________________________________\n",
      "hidden_layer1 (Dense)        (None, 512)               1573376   \n",
      "_________________________________________________________________\n",
      "batch_normalization_7 (Batch (None, 512)               2048      \n",
      "_________________________________________________________________\n",
      "hidden_layer2 (Dense)        (None, 256)               131328    \n",
      "_________________________________________________________________\n",
      "batch_normalization_8 (Batch (None, 256)               1024      \n",
      "_________________________________________________________________\n",
      "hidden_layer3 (Dense)        (None, 128)               32896     \n",
      "_________________________________________________________________\n",
      "batch_normalization_9 (Batch (None, 128)               512       \n",
      "_________________________________________________________________\n",
      "output (Dense)               (None, 10)                1290      \n",
      "=================================================================\n",
      "Total params: 1,742,474\n",
      "Trainable params: 1,740,682\n",
      "Non-trainable params: 1,792\n",
      "_________________________________________________________________\n",
      "Train on 50000 samples, validate on 10000 samples\n",
      "Epoch 1/25\n",
      "50000/50000 [==============================] - 9s 190us/step - loss: 2.2108 - acc: 0.2691 - val_loss: 2.0962 - val_acc: 0.3108\n",
      "Epoch 2/25\n",
      "50000/50000 [==============================] - 8s 163us/step - loss: 1.7386 - acc: 0.3921 - val_loss: 1.7665 - val_acc: 0.3935\n",
      "Epoch 3/25\n",
      "50000/50000 [==============================] - 8s 161us/step - loss: 1.6116 - acc: 0.4331 - val_loss: 1.6894 - val_acc: 0.4055\n",
      "Epoch 4/25\n",
      "50000/50000 [==============================] - 8s 153us/step - loss: 1.5387 - acc: 0.4614 - val_loss: 1.6206 - val_acc: 0.4288\n",
      "Epoch 5/25\n",
      "50000/50000 [==============================] - 8s 158us/step - loss: 1.4821 - acc: 0.4792 - val_loss: 1.5834 - val_acc: 0.4420\n",
      "Epoch 6/25\n",
      "50000/50000 [==============================] - 8s 157us/step - loss: 1.4363 - acc: 0.4958 - val_loss: 1.5599 - val_acc: 0.4504\n",
      "Epoch 7/25\n",
      "50000/50000 [==============================] - 8s 159us/step - loss: 1.3959 - acc: 0.5130 - val_loss: 1.5283 - val_acc: 0.4618\n",
      "Epoch 8/25\n",
      "50000/50000 [==============================] - 8s 158us/step - loss: 1.3616 - acc: 0.5262 - val_loss: 1.5154 - val_acc: 0.4613\n",
      "Epoch 9/25\n",
      "50000/50000 [==============================] - 8s 165us/step - loss: 1.3288 - acc: 0.5370 - val_loss: 1.4945 - val_acc: 0.4787\n",
      "Epoch 10/25\n",
      "50000/50000 [==============================] - 9s 170us/step - loss: 1.2977 - acc: 0.5494 - val_loss: 1.4851 - val_acc: 0.4730\n",
      "Epoch 11/25\n",
      "50000/50000 [==============================] - 9s 173us/step - loss: 1.2701 - acc: 0.5588 - val_loss: 1.4904 - val_acc: 0.4712\n",
      "Epoch 12/25\n",
      "50000/50000 [==============================] - 9s 175us/step - loss: 1.2447 - acc: 0.5688 - val_loss: 1.4666 - val_acc: 0.4862\n",
      "Epoch 13/25\n",
      "50000/50000 [==============================] - 9s 177us/step - loss: 1.2175 - acc: 0.5772 - val_loss: 1.4719 - val_acc: 0.4819\n",
      "Epoch 14/25\n",
      "50000/50000 [==============================] - 9s 180us/step - loss: 1.1935 - acc: 0.5878 - val_loss: 1.4587 - val_acc: 0.4898\n",
      "Epoch 15/25\n",
      "50000/50000 [==============================] - 9s 173us/step - loss: 1.1679 - acc: 0.5972 - val_loss: 1.4629 - val_acc: 0.4832\n",
      "Epoch 16/25\n",
      "50000/50000 [==============================] - 8s 169us/step - loss: 1.1442 - acc: 0.6064 - val_loss: 1.4624 - val_acc: 0.4834\n",
      "Epoch 17/25\n",
      "50000/50000 [==============================] - 8s 163us/step - loss: 1.1226 - acc: 0.6127 - val_loss: 1.4513 - val_acc: 0.4910\n",
      "Epoch 18/25\n",
      "50000/50000 [==============================] - 8s 165us/step - loss: 1.0992 - acc: 0.6232 - val_loss: 1.4476 - val_acc: 0.4929\n",
      "Epoch 19/25\n",
      "50000/50000 [==============================] - 8s 162us/step - loss: 1.0766 - acc: 0.6295 - val_loss: 1.4441 - val_acc: 0.4962\n",
      "Epoch 20/25\n",
      "50000/50000 [==============================] - 8s 164us/step - loss: 1.0522 - acc: 0.6401 - val_loss: 1.4468 - val_acc: 0.4928\n",
      "Epoch 21/25\n",
      "50000/50000 [==============================] - 8s 163us/step - loss: 1.0298 - acc: 0.6469 - val_loss: 1.4453 - val_acc: 0.4959\n",
      "Epoch 22/25\n",
      "50000/50000 [==============================] - 8s 164us/step - loss: 1.0080 - acc: 0.6572 - val_loss: 1.4408 - val_acc: 0.4990\n",
      "Epoch 23/25\n",
      "50000/50000 [==============================] - 9s 183us/step - loss: 0.9869 - acc: 0.6636 - val_loss: 1.4562 - val_acc: 0.4947\n",
      "Epoch 24/25\n",
      "50000/50000 [==============================] - 10s 207us/step - loss: 0.9671 - acc: 0.6742 - val_loss: 1.4506 - val_acc: 0.4975\n",
      "Epoch 25/25\n",
      "50000/50000 [==============================] - 9s 173us/step - loss: 0.9449 - acc: 0.6826 - val_loss: 1.4502 - val_acc: 0.4966\n"
     ]
    }
   ],
   "source": [
    "model = build_mlp(input_shape=x_train.shape[1:])\n",
    "model.summary()\n",
    "optimizer = keras.optimizers.SGD(lr=LEARNING_RATE, nesterov=True, momentum=MOMENTUM)\n",
    "model.compile(loss=\"categorical_crossentropy\", metrics=[\"accuracy\"], optimizer=optimizer)\n",
    "\n",
    "\"\"\"Code Here\n",
    "將 callbacks 放入模型訓練流程中\n",
    "\"\"\"\n",
    "model.fit(x_train, y_train, \n",
    "          epochs=EPOCHS, \n",
    "          batch_size=BATCH_SIZE, \n",
    "          validation_data=(x_test, y_test), \n",
    "          shuffle=True,\n",
    "          callbacks=[rec_tptn]\n",
    "         )\n",
    "\n",
    "# Collect results\n",
    "train_loss = model.history.history[\"loss\"]\n",
    "valid_loss = model.history.history[\"val_loss\"]\n",
    "train_acc = model.history.history[\"acc\"]\n",
    "valid_acc = model.history.history[\"val_acc\"]\n",
    "\n",
    "\"\"\"Code Here\n",
    "將 tp/tn 從訓練完的模型中取出\n",
    "\"\"\"\n",
    "valid_tp = model.history.history['val_tp']\n",
    "valid_tn = model.history.history['val_tn']"
   ]
  },
  {
   "cell_type": "code",
   "execution_count": 13,
   "metadata": {},
   "outputs": [
    {
     "data": {
      "image/png": "[encoded data removed]",
      "text/plain": [
       "<Figure size 432x288 with 1 Axes>"
      ]
     },
     "metadata": {
      "needs_background": "light"
     },
     "output_type": "display_data"
    },
    {
     "data": {
      "image/png": "[encoded data removed]",
      "text/plain": [
       "<Figure size 432x288 with 1 Axes>"
      ]
     },
     "metadata": {
      "needs_background": "light"
     },
     "output_type": "display_data"
    },
    {
     "data": {
      "image/png": "[encoded data removed]",
      "text/plain": [
       "<Figure size 432x288 with 1 Axes>"
      ]
     },
     "metadata": {
      "needs_background": "light"
     },
     "output_type": "display_data"
    }
   ],
   "source": [
    "import matplotlib.pyplot as plt\n",
    "%matplotlib inline\n",
    "\n",
    "plt.plot(range(len(train_loss)), train_loss, label=\"train loss\")\n",
    "plt.plot(range(len(valid_loss)), valid_loss, label=\"valid loss\")\n",
    "plt.legend()\n",
    "plt.title(\"Loss\")\n",
    "plt.show()\n",
    "\n",
    "plt.plot(range(len(train_acc)), train_acc, label=\"train accuracy\")\n",
    "plt.plot(range(len(valid_acc)), valid_acc, label=\"valid accuracy\")\n",
    "plt.legend()\n",
    "plt.title(\"Accuracy\")\n",
    "plt.show()\n",
    "\n",
    "plt.plot(range(len(valid_tp)), valid_tp, label=\"valid tp\", color=\"navy\")\n",
    "plt.plot(range(len(valid_tn)), valid_tn, label=\"valid tn\", color=\"red\")\n",
    "plt.legend()\n",
    "plt.title(\"True positives and True Negatives\")\n",
    "plt.show()\n"
   ]
  }
 ],
 "metadata": {
  "kernelspec": {
   "display_name": "Python 3",
   "language": "python",
   "name": "python3"
  },
  "language_info": {
   "codemirror_mode": {
    "name": "ipython",
    "version": 3
   },
   "file_extension": ".py",
   "mimetype": "text/x-python",
   "name": "python",
   "nbconvert_exporter": "python",
   "pygments_lexer": "ipython3",
   "version": "3.7.3"
  }
 },
 "nbformat": 4,
 "nbformat_minor": 2
}
