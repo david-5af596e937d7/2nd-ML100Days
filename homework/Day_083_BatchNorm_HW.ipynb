{
 "cells": [
  {
   "cell_type": "markdown",
   "metadata": {},
   "source": [
    "## Work\n",
    "1. 試比較有 BN 在 Batch_size = 2, 16, 32, 128, 256 下的差異\n",
    "2. 請嘗試將 BN 放在 Activation 之前，並比較訓練結果\n",
    "3. 請於 BN 放在 Input Layer 後，並比較結果"
   ]
  },
  {
   "cell_type": "code",
   "execution_count": 1,
   "metadata": {},
   "outputs": [
    {
     "name": "stderr",
     "output_type": "stream",
     "text": [
      "Using TensorFlow backend.\n"
     ]
    }
   ],
   "source": [
    "import os\n",
    "import keras\n",
    "import itertools\n",
    "# Disable GPU\n",
    "os.environ[\"CUDA_VISIBLE_DEVICES\"] = \"\""
   ]
  },
  {
   "cell_type": "code",
   "execution_count": 2,
   "metadata": {},
   "outputs": [],
   "source": [
    "train, test = keras.datasets.cifar10.load_data()"
   ]
  },
  {
   "cell_type": "code",
   "execution_count": 3,
   "metadata": {},
   "outputs": [],
   "source": [
    "## 資料前處理\n",
    "def preproc_x(x, flatten=True):\n",
    "    x = x / 255.\n",
    "    if flatten:\n",
    "        x = x.reshape((len(x), -1))\n",
    "    return x\n",
    "\n",
    "def preproc_y(y, num_classes=10):\n",
    "    if y.shape[-1] == 1:\n",
    "        y = keras.utils.to_categorical(y, num_classes)\n",
    "    return y    "
   ]
  },
  {
   "cell_type": "code",
   "execution_count": 4,
   "metadata": {},
   "outputs": [],
   "source": [
    "x_train, y_train = train\n",
    "x_test, y_test = test\n",
    "\n",
    "# Preproc the inputs\n",
    "x_train = preproc_x(x_train)\n",
    "x_test = preproc_x(x_test)\n",
    "\n",
    "# Preprc the outputs\n",
    "y_train = preproc_y(y_train)\n",
    "y_test = preproc_y(y_test)"
   ]
  },
  {
   "cell_type": "code",
   "execution_count": 14,
   "metadata": {},
   "outputs": [],
   "source": [
    "from keras.layers import BatchNormalization\n",
    "\n",
    "\"\"\"\n",
    "建立神經網路\n",
    "\"\"\"\n",
    "def build_mlp(input_shape, output_units=10, num_neurons=[512, 256, 128], inbehind=True):\n",
    "    input_layer = keras.layers.Input(input_shape)\n",
    "    \n",
    "    for i, n_units in enumerate(num_neurons):\n",
    "        if i == 0:\n",
    "            x = keras.layers.Dense(units=n_units, \n",
    "                                   activation=\"relu\", \n",
    "                                   name=\"hidden_layer\"+str(i+1))(input_layer)\n",
    "        else:\n",
    "            if ~inbehind :\n",
    "                x = BatchNormalization()(x) \n",
    "            x = keras.layers.Dense(units=n_units, \n",
    "                                   activation=\"relu\", \n",
    "                                   name=\"hidden_layer\"+str(i+1))(x)\n",
    "            if inbehind :\n",
    "                x = BatchNormalization()(x)\n",
    "    \n",
    "    out = keras.layers.Dense(units=output_units, activation=\"softmax\", name=\"output\")(x)\n",
    "    \n",
    "    model = keras.models.Model(inputs=[input_layer], outputs=[out])\n",
    "    return model"
   ]
  },
  {
   "cell_type": "code",
   "execution_count": 15,
   "metadata": {},
   "outputs": [],
   "source": [
    "\"\"\"Code Here\n",
    "設定超參數\n",
    "\"\"\"\n",
    "LEARNING_RATE = 1e-3\n",
    "EPOCHS = 50\n",
    "BATCH_SIZE = 1024\n",
    "MOMENTUM = 0.95"
   ]
  },
  {
   "cell_type": "code",
   "execution_count": 17,
   "metadata": {
    "scrolled": true
   },
   "outputs": [
    {
     "name": "stderr",
     "output_type": "stream",
     "text": [
      "WARNING: Logging before flag parsing goes to stderr.\n",
      "W0805 22:51:13.468457  4500 deprecation_wrapper.py:119] From C:\\Users\\Win7\\Anaconda3\\lib\\site-packages\\keras\\backend\\tensorflow_backend.py:95: The name tf.reset_default_graph is deprecated. Please use tf.compat.v1.reset_default_graph instead.\n",
      "\n",
      "W0805 22:51:13.470457  4500 deprecation_wrapper.py:119] From C:\\Users\\Win7\\Anaconda3\\lib\\site-packages\\keras\\backend\\tensorflow_backend.py:98: The name tf.placeholder_with_default is deprecated. Please use tf.compat.v1.placeholder_with_default instead.\n",
      "\n",
      "W0805 22:51:13.542461  4500 deprecation_wrapper.py:119] From C:\\Users\\Win7\\Anaconda3\\lib\\site-packages\\keras\\backend\\tensorflow_backend.py:102: The name tf.get_default_graph is deprecated. Please use tf.compat.v1.get_default_graph instead.\n",
      "\n",
      "W0805 22:51:13.543461  4500 deprecation_wrapper.py:119] From C:\\Users\\Win7\\Anaconda3\\lib\\site-packages\\keras\\backend\\tensorflow_backend.py:517: The name tf.placeholder is deprecated. Please use tf.compat.v1.placeholder instead.\n",
      "\n",
      "W0805 22:51:13.547461  4500 deprecation_wrapper.py:119] From C:\\Users\\Win7\\Anaconda3\\lib\\site-packages\\keras\\backend\\tensorflow_backend.py:4138: The name tf.random_uniform is deprecated. Please use tf.random.uniform instead.\n",
      "\n",
      "W0805 22:51:14.024488  4500 deprecation_wrapper.py:119] From C:\\Users\\Win7\\Anaconda3\\lib\\site-packages\\keras\\optimizers.py:790: The name tf.train.Optimizer is deprecated. Please use tf.compat.v1.train.Optimizer instead.\n",
      "\n"
     ]
    },
    {
     "name": "stdout",
     "output_type": "stream",
     "text": [
      "_________________________________________________________________\n",
      "Layer (type)                 Output Shape              Param #   \n",
      "=================================================================\n",
      "input_1 (InputLayer)         (None, 3072)              0         \n",
      "_________________________________________________________________\n",
      "hidden_layer1 (Dense)        (None, 512)               1573376   \n",
      "_________________________________________________________________\n",
      "batch_normalization_1 (Batch (None, 512)               2048      \n",
      "_________________________________________________________________\n",
      "hidden_layer2 (Dense)        (None, 256)               131328    \n",
      "_________________________________________________________________\n",
      "batch_normalization_2 (Batch (None, 256)               1024      \n",
      "_________________________________________________________________\n",
      "hidden_layer3 (Dense)        (None, 128)               32896     \n",
      "_________________________________________________________________\n",
      "output (Dense)               (None, 10)                1290      \n",
      "=================================================================\n",
      "Total params: 1,741,962\n",
      "Trainable params: 1,740,426\n",
      "Non-trainable params: 1,536\n",
      "_________________________________________________________________\n"
     ]
    },
    {
     "name": "stderr",
     "output_type": "stream",
     "text": [
      "W0805 22:51:14.166496  4500 deprecation.py:323] From C:\\Users\\Win7\\Anaconda3\\lib\\site-packages\\tensorflow\\python\\ops\\math_grad.py:1250: add_dispatch_support.<locals>.wrapper (from tensorflow.python.ops.array_ops) is deprecated and will be removed in a future version.\n",
      "Instructions for updating:\n",
      "Use tf.where in 2.0, which has the same broadcast rule as np.where\n"
     ]
    },
    {
     "name": "stdout",
     "output_type": "stream",
     "text": [
      "Train on 50000 samples, validate on 10000 samples\n",
      "Epoch 1/30\n",
      "50000/50000 [==============================] - 10s 203us/step - loss: 2.1019 - acc: 0.2702 - val_loss: 1.9652 - val_acc: 0.3243\n",
      "Epoch 2/30\n",
      "50000/50000 [==============================] - 10s 194us/step - loss: 1.7380 - acc: 0.3891 - val_loss: 1.7370 - val_acc: 0.3871\n",
      "Epoch 3/30\n",
      "50000/50000 [==============================] - 9s 171us/step - loss: 1.6269 - acc: 0.4268 - val_loss: 1.6593 - val_acc: 0.4104\n",
      "Epoch 4/30\n",
      "50000/50000 [==============================] - 8s 168us/step - loss: 1.5594 - acc: 0.4525 - val_loss: 1.6098 - val_acc: 0.4340\n",
      "Epoch 5/30\n",
      "50000/50000 [==============================] - 8s 156us/step - loss: 1.5078 - acc: 0.4715 - val_loss: 1.5865 - val_acc: 0.4392\n",
      "Epoch 6/30\n",
      "50000/50000 [==============================] - 8s 156us/step - loss: 1.4669 - acc: 0.4856 - val_loss: 1.5545 - val_acc: 0.4525\n",
      "Epoch 7/30\n",
      "50000/50000 [==============================] - 8s 168us/step - loss: 1.4308 - acc: 0.4999 - val_loss: 1.5444 - val_acc: 0.4524\n",
      "Epoch 8/30\n",
      "50000/50000 [==============================] - 8s 166us/step - loss: 1.3977 - acc: 0.5122 - val_loss: 1.5223 - val_acc: 0.4616\n",
      "Epoch 9/30\n",
      "50000/50000 [==============================] - 8s 167us/step - loss: 1.3692 - acc: 0.5242 - val_loss: 1.4956 - val_acc: 0.4691\n",
      "Epoch 10/30\n",
      "50000/50000 [==============================] - 8s 166us/step - loss: 1.3420 - acc: 0.5333 - val_loss: 1.4935 - val_acc: 0.4747\n",
      "Epoch 11/30\n",
      "50000/50000 [==============================] - 8s 163us/step - loss: 1.3170 - acc: 0.5422 - val_loss: 1.4717 - val_acc: 0.4819\n",
      "Epoch 12/30\n",
      "50000/50000 [==============================] - 8s 161us/step - loss: 1.2932 - acc: 0.5516 - val_loss: 1.4648 - val_acc: 0.4812\n",
      "Epoch 13/30\n",
      "50000/50000 [==============================] - 8s 155us/step - loss: 1.2708 - acc: 0.5602 - val_loss: 1.4609 - val_acc: 0.4824\n",
      "Epoch 14/30\n",
      "50000/50000 [==============================] - 8s 158us/step - loss: 1.2489 - acc: 0.5691 - val_loss: 1.4462 - val_acc: 0.4905\n",
      "Epoch 15/30\n",
      "50000/50000 [==============================] - 8s 153us/step - loss: 1.2264 - acc: 0.5785 - val_loss: 1.4452 - val_acc: 0.4898\n",
      "Epoch 16/30\n",
      "50000/50000 [==============================] - 8s 153us/step - loss: 1.2063 - acc: 0.5851 - val_loss: 1.4356 - val_acc: 0.4922\n",
      "Epoch 17/30\n",
      "50000/50000 [==============================] - 8s 153us/step - loss: 1.1859 - acc: 0.5921 - val_loss: 1.4348 - val_acc: 0.4945\n",
      "Epoch 18/30\n",
      "50000/50000 [==============================] - 8s 160us/step - loss: 1.1644 - acc: 0.6005 - val_loss: 1.4253 - val_acc: 0.4978\n",
      "Epoch 19/30\n",
      "50000/50000 [==============================] - 8s 156us/step - loss: 1.1452 - acc: 0.6066 - val_loss: 1.4308 - val_acc: 0.4963\n",
      "Epoch 20/30\n",
      "50000/50000 [==============================] - 8s 154us/step - loss: 1.1270 - acc: 0.6142 - val_loss: 1.4249 - val_acc: 0.4971\n",
      "Epoch 21/30\n",
      "50000/50000 [==============================] - 8s 156us/step - loss: 1.1096 - acc: 0.6204 - val_loss: 1.4270 - val_acc: 0.4944\n",
      "Epoch 22/30\n",
      "50000/50000 [==============================] - 8s 169us/step - loss: 1.0910 - acc: 0.6291 - val_loss: 1.4196 - val_acc: 0.5004\n",
      "Epoch 23/30\n",
      "50000/50000 [==============================] - 10s 197us/step - loss: 1.0735 - acc: 0.6348 - val_loss: 1.4156 - val_acc: 0.4988\n",
      "Epoch 24/30\n",
      "50000/50000 [==============================] - 10s 199us/step - loss: 1.0553 - acc: 0.6414 - val_loss: 1.4293 - val_acc: 0.4974\n",
      "Epoch 25/30\n",
      "50000/50000 [==============================] - 9s 177us/step - loss: 1.0388 - acc: 0.6484 - val_loss: 1.4257 - val_acc: 0.4969\n",
      "Epoch 26/30\n",
      "50000/50000 [==============================] - 9s 178us/step - loss: 1.0210 - acc: 0.6567 - val_loss: 1.4144 - val_acc: 0.5012\n",
      "Epoch 27/30\n",
      "50000/50000 [==============================] - 10s 194us/step - loss: 1.0033 - acc: 0.6622 - val_loss: 1.4140 - val_acc: 0.5036\n",
      "Epoch 28/30\n",
      "50000/50000 [==============================] - 10s 192us/step - loss: 0.9872 - acc: 0.6689 - val_loss: 1.4189 - val_acc: 0.5061\n",
      "Epoch 29/30\n",
      "50000/50000 [==============================] - 9s 184us/step - loss: 0.9700 - acc: 0.6749 - val_loss: 1.4251 - val_acc: 0.4974\n",
      "Epoch 30/30\n",
      "50000/50000 [==============================] - 10s 197us/step - loss: 0.9521 - acc: 0.6842 - val_loss: 1.4301 - val_acc: 0.4976\n",
      "_________________________________________________________________\n",
      "Layer (type)                 Output Shape              Param #   \n",
      "=================================================================\n",
      "input_1 (InputLayer)         (None, 3072)              0         \n",
      "_________________________________________________________________\n",
      "hidden_layer1 (Dense)        (None, 512)               1573376   \n",
      "_________________________________________________________________\n",
      "batch_normalization_1 (Batch (None, 512)               2048      \n",
      "_________________________________________________________________\n",
      "hidden_layer2 (Dense)        (None, 256)               131328    \n",
      "_________________________________________________________________\n",
      "batch_normalization_2 (Batch (None, 256)               1024      \n",
      "_________________________________________________________________\n",
      "batch_normalization_3 (Batch (None, 256)               1024      \n",
      "_________________________________________________________________\n",
      "hidden_layer3 (Dense)        (None, 128)               32896     \n",
      "_________________________________________________________________\n",
      "batch_normalization_4 (Batch (None, 128)               512       \n",
      "_________________________________________________________________\n",
      "output (Dense)               (None, 10)                1290      \n",
      "=================================================================\n",
      "Total params: 1,743,498\n",
      "Trainable params: 1,741,194\n",
      "Non-trainable params: 2,304\n",
      "_________________________________________________________________\n",
      "Train on 50000 samples, validate on 10000 samples\n",
      "Epoch 1/30\n",
      "50000/50000 [==============================] - 9s 182us/step - loss: 2.1928 - acc: 0.2770 - val_loss: 2.0420 - val_acc: 0.3230\n",
      "Epoch 2/30\n",
      "50000/50000 [==============================] - 9s 179us/step - loss: 1.7333 - acc: 0.3960 - val_loss: 1.8009 - val_acc: 0.3831\n",
      "Epoch 3/30\n",
      "50000/50000 [==============================] - 9s 183us/step - loss: 1.6092 - acc: 0.4378 - val_loss: 1.6894 - val_acc: 0.4200\n",
      "Epoch 4/30\n",
      "50000/50000 [==============================] - 8s 170us/step - loss: 1.5357 - acc: 0.4643 - val_loss: 1.6316 - val_acc: 0.4316\n",
      "Epoch 5/30\n",
      "50000/50000 [==============================] - 9s 175us/step - loss: 1.4846 - acc: 0.4814 - val_loss: 1.6027 - val_acc: 0.4396\n",
      "Epoch 6/30\n",
      "50000/50000 [==============================] - 9s 179us/step - loss: 1.4375 - acc: 0.4983 - val_loss: 1.5717 - val_acc: 0.4520\n",
      "Epoch 7/30\n",
      "50000/50000 [==============================] - 9s 182us/step - loss: 1.3995 - acc: 0.5108 - val_loss: 1.5456 - val_acc: 0.4607\n",
      "Epoch 8/30\n",
      "50000/50000 [==============================] - 9s 180us/step - loss: 1.3656 - acc: 0.5242 - val_loss: 1.5335 - val_acc: 0.4648\n",
      "Epoch 9/30\n",
      "50000/50000 [==============================] - 9s 177us/step - loss: 1.3327 - acc: 0.5362 - val_loss: 1.5057 - val_acc: 0.4732\n",
      "Epoch 10/30\n",
      "50000/50000 [==============================] - 9s 173us/step - loss: 1.3033 - acc: 0.5469 - val_loss: 1.4915 - val_acc: 0.4770\n",
      "Epoch 11/30\n",
      "50000/50000 [==============================] - 9s 177us/step - loss: 1.2751 - acc: 0.5562 - val_loss: 1.4994 - val_acc: 0.4772\n",
      "Epoch 12/30\n",
      "50000/50000 [==============================] - 9s 173us/step - loss: 1.2507 - acc: 0.5656 - val_loss: 1.4961 - val_acc: 0.4734\n",
      "Epoch 13/30\n",
      "50000/50000 [==============================] - 9s 184us/step - loss: 1.2235 - acc: 0.5766 - val_loss: 1.4777 - val_acc: 0.4832\n",
      "Epoch 14/30\n",
      "50000/50000 [==============================] - 8s 170us/step - loss: 1.1978 - acc: 0.5868 - val_loss: 1.4699 - val_acc: 0.4834\n",
      "Epoch 15/30\n",
      "50000/50000 [==============================] - 9s 186us/step - loss: 1.1727 - acc: 0.5957 - val_loss: 1.4630 - val_acc: 0.4866\n",
      "Epoch 16/30\n",
      "50000/50000 [==============================] - 10s 202us/step - loss: 1.1489 - acc: 0.6057 - val_loss: 1.4689 - val_acc: 0.4848\n",
      "Epoch 17/30\n",
      "50000/50000 [==============================] - 9s 187us/step - loss: 1.1271 - acc: 0.6141 - val_loss: 1.4541 - val_acc: 0.4874\n",
      "Epoch 18/30\n"
     ]
    },
    {
     "name": "stdout",
     "output_type": "stream",
     "text": [
      "50000/50000 [==============================] - 10s 191us/step - loss: 1.1045 - acc: 0.6227 - val_loss: 1.4522 - val_acc: 0.4930\n",
      "Epoch 19/30\n",
      "50000/50000 [==============================] - 9s 177us/step - loss: 1.0814 - acc: 0.6301 - val_loss: 1.4602 - val_acc: 0.4912\n",
      "Epoch 20/30\n",
      "50000/50000 [==============================] - 9s 185us/step - loss: 1.0609 - acc: 0.6393 - val_loss: 1.4699 - val_acc: 0.4835\n",
      "Epoch 21/30\n",
      "50000/50000 [==============================] - 9s 185us/step - loss: 1.0398 - acc: 0.6482 - val_loss: 1.4617 - val_acc: 0.4868\n",
      "Epoch 22/30\n",
      "50000/50000 [==============================] - 9s 174us/step - loss: 1.0175 - acc: 0.6560 - val_loss: 1.4493 - val_acc: 0.4975\n",
      "Epoch 23/30\n",
      "50000/50000 [==============================] - 9s 175us/step - loss: 0.9981 - acc: 0.6634 - val_loss: 1.4634 - val_acc: 0.4878\n",
      "Epoch 24/30\n",
      "50000/50000 [==============================] - 8s 166us/step - loss: 0.9761 - acc: 0.6725 - val_loss: 1.4612 - val_acc: 0.4923\n",
      "Epoch 25/30\n",
      "50000/50000 [==============================] - 8s 167us/step - loss: 0.9560 - acc: 0.6815 - val_loss: 1.4602 - val_acc: 0.4924\n",
      "Epoch 26/30\n",
      "50000/50000 [==============================] - 8s 163us/step - loss: 0.9336 - acc: 0.6886 - val_loss: 1.4537 - val_acc: 0.4942\n",
      "Epoch 27/30\n",
      "50000/50000 [==============================] - 8s 169us/step - loss: 0.9164 - acc: 0.6954 - val_loss: 1.4668 - val_acc: 0.4988\n",
      "Epoch 28/30\n",
      "50000/50000 [==============================] - 8s 167us/step - loss: 0.8973 - acc: 0.7038 - val_loss: 1.4700 - val_acc: 0.4926\n",
      "Epoch 29/30\n",
      "50000/50000 [==============================] - 8s 170us/step - loss: 0.8766 - acc: 0.7125 - val_loss: 1.4665 - val_acc: 0.5003\n",
      "Epoch 30/30\n",
      "50000/50000 [==============================] - 8s 165us/step - loss: 0.8569 - acc: 0.7193 - val_loss: 1.4918 - val_acc: 0.4947\n"
     ]
    }
   ],
   "source": [
    "results = {}\n",
    "\"\"\"Code Here\n",
    "撰寫你的訓練流程並將結果用 dictionary 紀錄\n",
    "\"\"\"\n",
    "for i in range(2):\n",
    "    keras.backend.clear_session() # 把舊的 Graph 清掉\n",
    "    if i==1:\n",
    "        model = build_mlp(input_shape=x_train.shape[1:], inbehind=True)\n",
    "    else:\n",
    "        model = build_mlp(input_shape=x_train.shape[1:], inbehind=False)\n",
    "    model.summary()\n",
    "    optimizer = keras.optimizers.SGD(lr=LEARNING_RATE, nesterov=True, momentum=MOMENTUM)\n",
    "    model.compile(loss=\"categorical_crossentropy\", metrics=[\"accuracy\"], optimizer=optimizer)\n",
    "\n",
    "    model.fit(x_train, y_train, \n",
    "              epochs=EPOCHS, \n",
    "              batch_size=BATCH_SIZE, \n",
    "              validation_data=(x_test, y_test), \n",
    "              shuffle=True)\n",
    "    \n",
    "    # Collect results\n",
    "    train_loss = model.history.history[\"loss\"]\n",
    "    valid_loss = model.history.history[\"val_loss\"]\n",
    "    train_acc = model.history.history[\"acc\"]\n",
    "    valid_acc = model.history.history[\"val_acc\"]\n",
    "    \n",
    "    exp_name_tag = i\n",
    "    results[exp_name_tag] = {'train-loss': train_loss,\n",
    "                             'valid-loss': valid_loss,\n",
    "                             'train-acc': train_acc,\n",
    "                             'valid-acc': valid_acc}"
   ]
  },
  {
   "cell_type": "code",
   "execution_count": 19,
   "metadata": {},
   "outputs": [
    {
     "data": {
      "image/png": "[encoded data removed]",
      "text/plain": [
       "<Figure size 576x432 with 1 Axes>"
      ]
     },
     "metadata": {
      "needs_background": "light"
     },
     "output_type": "display_data"
    },
    {
     "data": {
      "image/png": "[encoded data removed]",
      "text/plain": [
       "<Figure size 576x432 with 1 Axes>"
      ]
     },
     "metadata": {
      "needs_background": "light"
     },
     "output_type": "display_data"
    }
   ],
   "source": [
    "import matplotlib.pyplot as plt\n",
    "%matplotlib inline\n",
    "color_bar = [\"r\", \"y\"]\n",
    "\n",
    "plt.figure(figsize=(8,6))\n",
    "for i, cond in enumerate(results.keys()):\n",
    "    plt.plot(range(len(results[cond]['train-loss'])),results[cond]['train-loss'], '-', label=cond, color=color_bar[i])\n",
    "    plt.plot(range(len(results[cond]['valid-loss'])),results[cond]['valid-loss'], '--', label=cond, color=color_bar[i])\n",
    "plt.title(\"Loss\")\n",
    "plt.ylim([0, 5])\n",
    "plt.legend()\n",
    "plt.show()\n",
    "\n",
    "plt.figure(figsize=(8,6))\n",
    "for i, cond in enumerate(results.keys()):\n",
    "    plt.plot(range(len(results[cond]['train-acc'])),results[cond]['train-acc'], '-', label=cond, color=color_bar[i])\n",
    "    plt.plot(range(len(results[cond]['valid-acc'])),results[cond]['valid-acc'], '--', label=cond, color=color_bar[i])\n",
    "plt.title(\"Accuracy\")\n",
    "plt.legend()\n",
    "plt.show()"
   ]
  }
 ],
 "metadata": {
  "kernelspec": {
   "display_name": "Python 3",
   "language": "python",
   "name": "python3"
  },
  "language_info": {
   "codemirror_mode": {
    "name": "ipython",
    "version": 3
   },
   "file_extension": ".py",
   "mimetype": "text/x-python",
   "name": "python",
   "nbconvert_exporter": "python",
   "pygments_lexer": "ipython3",
   "version": "3.7.3"
  }
 },
 "nbformat": 4,
 "nbformat_minor": 2
}
