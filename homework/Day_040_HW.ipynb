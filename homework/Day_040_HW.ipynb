{
 "cells": [
  {
   "cell_type": "markdown",
   "metadata": {},
   "source": [
    "## [作業重點]\n",
    "使用 Sklearn 中的 Lasso, Ridge 模型，來訓練各種資料集，務必了解送進去模型訓練的**資料型態**為何，也請了解模型中各項參數的意義。\n",
    "\n",
    "機器學習的模型非常多種，但要訓練的資料多半有固定的格式，確保你了解訓練資料的格式為何，這樣在應用新模型時，就能夠最快的上手開始訓練！"
   ]
  },
  {
   "cell_type": "markdown",
   "metadata": {},
   "source": [
    "## 練習時間\n",
    "試著使用 sklearn datasets 的其他資料集 (boston, ...)，來訓練自己的線性迴歸模型，並加上適當的正則話來觀察訓練情形。"
   ]
  },
  {
   "cell_type": "code",
   "execution_count": 1,
   "metadata": {},
   "outputs": [],
   "source": [
    "import numpy as np\n",
    "import matplotlib.pyplot as plt\n",
    "from sklearn import datasets, linear_model\n",
    "from sklearn.model_selection import train_test_split\n",
    "from sklearn.metrics import mean_squared_error, r2_score\n",
    "from sklearn.metrics import mean_absolute_error \n"
   ]
  },
  {
   "cell_type": "markdown",
   "metadata": {},
   "source": [
    "### 房價"
   ]
  },
  {
   "cell_type": "code",
   "execution_count": 2,
   "metadata": {},
   "outputs": [],
   "source": [
    "diabetes = datasets.load_boston()\n",
    "\n",
    "# 切分訓練集/測試集\n",
    "x_train, x_test, y_train, y_test = train_test_split(diabetes.data, diabetes.target, test_size=0.2, random_state=4)\n",
    "\n",
    "# 建立一個線性回歸模型\n",
    "regr = linear_model.LinearRegression()\n",
    "\n",
    "# 將訓練資料丟進去模型訓練\n",
    "regr.fit(x_train, y_train)\n",
    "\n",
    "# 將測試資料丟進模型得到預測結果\n",
    "y_pred = regr.predict(x_test)"
   ]
  },
  {
   "cell_type": "code",
   "execution_count": 3,
   "metadata": {},
   "outputs": [
    {
     "name": "stdout",
     "output_type": "stream",
     "text": [
      "[-1.15966452e-01  4.71249231e-02  8.25980146e-03  3.23404531e+00\n",
      " -1.66865890e+01  3.88410651e+00 -1.08974442e-02 -1.54129540e+00\n",
      "  2.93208309e-01 -1.34059383e-02 -9.06296429e-01  8.80823439e-03\n",
      " -4.57723846e-01]\n"
     ]
    }
   ],
   "source": [
    "print(regr.coef_)"
   ]
  },
  {
   "cell_type": "code",
   "execution_count": 4,
   "metadata": {},
   "outputs": [],
   "source": [
    "lineRegr_MSE_score = mean_squared_error(y_test, y_pred)\n",
    "lineRegr_MAE_score = mean_absolute_error(y_test, y_pred)"
   ]
  },
  {
   "cell_type": "code",
   "execution_count": 5,
   "metadata": {},
   "outputs": [],
   "source": [
    "#LASSO\n",
    "def runLASSO(x_train, x_test, y_train, y_test,alpha):    \n",
    "    # 建立一個線性回歸模型\n",
    "    lasso = linear_model.Lasso(alpha=alpha)\n",
    "\n",
    "    # 將訓練資料丟進去模型訓練\n",
    "    lasso.fit(x_train, y_train)\n",
    "\n",
    "    # 將測試資料丟進模型得到預測結果\n",
    "    y_pred = lasso.predict(x_test)\n",
    "    \n",
    "    print(\"Mean squared error: %.2f\"\n",
    "      % mean_squared_error(y_test, y_pred))\n",
    "    print(\"Mean absolute error: %.2f\"\n",
    "      % mean_absolute_error(y_test, y_pred))"
   ]
  },
  {
   "cell_type": "code",
   "execution_count": 6,
   "metadata": {},
   "outputs": [],
   "source": [
    "#Ridge\n",
    "def runLRidge(x_train, x_test, y_train, y_test,alpha):\n",
    "    # 建立一個線性回歸模型\n",
    "    Ridge = linear_model.Ridge(alpha=alpha)\n",
    "\n",
    "    # 將訓練資料丟進去模型訓練\n",
    "    Ridge.fit(x_train, y_train)\n",
    "\n",
    "    # 將測試資料丟進模型得到預測結果\n",
    "    y_pred = Ridge.predict(x_test)\n",
    "    \n",
    "    print(\"Mean squared error: %.2f\"\n",
    "      % mean_squared_error(y_test, y_pred))\n",
    "    print(\"Mean absolute error: %.2f\"\n",
    "      % mean_absolute_error(y_test, y_pred))"
   ]
  },
  {
   "cell_type": "code",
   "execution_count": 7,
   "metadata": {},
   "outputs": [
    {
     "name": "stdout",
     "output_type": "stream",
     "text": [
      "Mean squared error: 25.42\n",
      "Mean absolute error: 3.37\n"
     ]
    }
   ],
   "source": [
    "print(\"Mean squared error: %.2f\"\n",
    "      % lineRegr_MSE_score)\n",
    "print(\"Mean absolute error: %.2f\"\n",
    "      % lineRegr_MAE_score)"
   ]
  },
  {
   "cell_type": "code",
   "execution_count": 8,
   "metadata": {},
   "outputs": [
    {
     "name": "stdout",
     "output_type": "stream",
     "text": [
      "1\n",
      "Mean squared error: 28.95\n",
      "Mean absolute error: 3.56\n",
      "0.1\n",
      "Mean squared error: 26.45\n",
      "Mean absolute error: 3.35\n",
      "0.01\n",
      "Mean squared error: 25.48\n",
      "Mean absolute error: 3.35\n",
      "0.001\n",
      "Mean squared error: 25.42\n",
      "Mean absolute error: 3.37\n"
     ]
    }
   ],
   "source": [
    "print(1)\n",
    "runLASSO(x_train, x_test, y_train, y_test,1)\n",
    "print(0.1)\n",
    "runLASSO(x_train, x_test, y_train, y_test,0.1)\n",
    "print(0.01)\n",
    "runLASSO(x_train, x_test, y_train, y_test,0.01)\n",
    "print(0.001)\n",
    "runLASSO(x_train, x_test, y_train, y_test,0.001)\n"
   ]
  },
  {
   "cell_type": "code",
   "execution_count": 9,
   "metadata": {},
   "outputs": [
    {
     "name": "stdout",
     "output_type": "stream",
     "text": [
      "1\n",
      "Mean squared error: 25.74\n",
      "Mean absolute error: 3.34\n",
      "0.1\n",
      "Mean squared error: 25.46\n",
      "Mean absolute error: 3.36\n",
      "0.01\n",
      "Mean squared error: 25.42\n",
      "Mean absolute error: 3.37\n",
      "0.001\n",
      "Mean squared error: 25.42\n",
      "Mean absolute error: 3.37\n"
     ]
    }
   ],
   "source": [
    "print(1)\n",
    "runLRidge(x_train, x_test, y_train, y_test,1)\n",
    "print(0.1)\n",
    "runLRidge(x_train, x_test, y_train, y_test,0.1)\n",
    "print(0.01)\n",
    "runLRidge(x_train, x_test, y_train, y_test,0.01)\n",
    "print(0.001)\n",
    "runLRidge(x_train, x_test, y_train, y_test,0.001)\n"
   ]
  },
  {
   "cell_type": "markdown",
   "metadata": {},
   "source": [
    "### linnerud"
   ]
  },
  {
   "cell_type": "code",
   "execution_count": 10,
   "metadata": {},
   "outputs": [],
   "source": [
    "data = datasets.load_linnerud()\n",
    "\n",
    "# 切分訓練集/測試集\n",
    "x_train, x_test, y_train, y_test = train_test_split(data.data, data.target, test_size=0.2, random_state=4)\n",
    "\n",
    "# 建立一個線性回歸模型\n",
    "regr = linear_model.LinearRegression()\n",
    "\n",
    "# 將訓練資料丟進去模型訓練\n",
    "regr.fit(x_train, y_train)\n",
    "\n",
    "# 將測試資料丟進模型得到預測結果\n",
    "y_pred = regr.predict(x_test)\n",
    "\n",
    "lineRegr_MSE_score = mean_squared_error(y_test, y_pred)\n",
    "lineRegr_MAE_score = mean_absolute_error(y_test, y_pred)"
   ]
  },
  {
   "cell_type": "code",
   "execution_count": 11,
   "metadata": {},
   "outputs": [
    {
     "name": "stdout",
     "output_type": "stream",
     "text": [
      "Mean squared error: 386.15\n",
      "Mean absolute error: 12.08\n"
     ]
    }
   ],
   "source": [
    "print(\"Mean squared error: %.2f\"\n",
    "      % lineRegr_MSE_score)\n",
    "print(\"Mean absolute error: %.2f\"\n",
    "      % lineRegr_MAE_score)"
   ]
  },
  {
   "cell_type": "code",
   "execution_count": 12,
   "metadata": {},
   "outputs": [
    {
     "name": "stdout",
     "output_type": "stream",
     "text": [
      "1\n",
      "Mean squared error: 382.88\n",
      "Mean absolute error: 12.06\n",
      "0.1\n",
      "Mean squared error: 385.82\n",
      "Mean absolute error: 12.08\n",
      "0.01\n",
      "Mean squared error: 386.12\n",
      "Mean absolute error: 12.08\n",
      "0.001\n",
      "Mean squared error: 386.15\n",
      "Mean absolute error: 12.08\n"
     ]
    }
   ],
   "source": [
    "print(1)\n",
    "runLASSO(x_train, x_test, y_train, y_test,1)\n",
    "print(0.1)\n",
    "runLASSO(x_train, x_test, y_train, y_test,0.1)\n",
    "print(0.01)\n",
    "runLASSO(x_train, x_test, y_train, y_test,0.01)\n",
    "print(0.001)\n",
    "runLASSO(x_train, x_test, y_train, y_test,0.001)\n"
   ]
  },
  {
   "cell_type": "code",
   "execution_count": 13,
   "metadata": {},
   "outputs": [
    {
     "name": "stdout",
     "output_type": "stream",
     "text": [
      "1\n",
      "Mean squared error: 385.93\n",
      "Mean absolute error: 12.08\n",
      "0.1\n",
      "Mean squared error: 386.13\n",
      "Mean absolute error: 12.08\n",
      "0.01\n",
      "Mean squared error: 386.15\n",
      "Mean absolute error: 12.08\n",
      "0.001\n",
      "Mean squared error: 386.15\n",
      "Mean absolute error: 12.08\n"
     ]
    }
   ],
   "source": [
    "print(1)\n",
    "runLRidge(x_train, x_test, y_train, y_test,1)\n",
    "print(0.1)\n",
    "runLRidge(x_train, x_test, y_train, y_test,0.1)\n",
    "print(0.01)\n",
    "runLRidge(x_train, x_test, y_train, y_test,0.01)\n",
    "print(0.001)\n",
    "runLRidge(x_train, x_test, y_train, y_test,0.001)\n"
   ]
  }
 ],
 "metadata": {
  "kernelspec": {
   "display_name": "Python 3",
   "language": "python",
   "name": "python3"
  },
  "language_info": {
   "codemirror_mode": {
    "name": "ipython",
    "version": 3
   },
   "file_extension": ".py",
   "mimetype": "text/x-python",
   "name": "python",
   "nbconvert_exporter": "python",
   "pygments_lexer": "ipython3",
   "version": "3.6.8"
  }
 },
 "nbformat": 4,
 "nbformat_minor": 2
}
