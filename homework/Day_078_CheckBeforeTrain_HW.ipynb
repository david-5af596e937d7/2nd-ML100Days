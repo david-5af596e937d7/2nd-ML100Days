{
 "cells": [
  {
   "cell_type": "markdown",
   "metadata": {},
   "source": [
    "## Work\n",
    "1. 請嘗試將 preproc_x 替換成以每筆資料的 min/max 進行標準化至 -1 ~ 1 間，再進行訓練\n",
    "2. 請嘗試將 mlp 疊更深 (e.g 5~10 層)，進行訓練後觀察 learning curve 的走勢\n",
    "3. (optional) 請改用 GPU 進行訓練 (如果你有 GPU 的話)，比較使用 CPU 與 GPU 的訓練速度"
   ]
  },
  {
   "cell_type": "code",
   "execution_count": 1,
   "metadata": {},
   "outputs": [],
   "source": [
    "## \n",
    "\"\"\"\n",
    "Your code here (optional)\n",
    "確認硬體資源\n",
    "\"\"\"\n",
    "## 確認硬體資源 (如果你是在 Linux, 若是在 Windows, 請參考 https://blog.csdn.net/idwtwt/article/details/78017565)\n",
    "!nvidia-smi"
   ]
  },
  {
   "cell_type": "code",
   "execution_count": 1,
   "metadata": {},
   "outputs": [
    {
     "name": "stderr",
     "output_type": "stream",
     "text": [
      "Using TensorFlow backend.\n"
     ]
    }
   ],
   "source": [
    "import os\n",
    "import keras\n",
    "\n",
    "# 請嘗試設定 GPU：os.environ\n",
    "os.environ[\"CUDA_VISIBLE_DEVICES\"] = \"\" #無使用GPU填空"
   ]
  },
  {
   "cell_type": "code",
   "execution_count": 2,
   "metadata": {},
   "outputs": [],
   "source": [
    "train, test = keras.datasets.cifar10.load_data()"
   ]
  },
  {
   "cell_type": "code",
   "execution_count": 3,
   "metadata": {},
   "outputs": [],
   "source": [
    "## 資料前處理\n",
    "\"\"\"\n",
    "Your code here\n",
    "\"\"\"\n",
    "def preproc_x(x, flatten=True):\n",
    "    x = x / 255.\n",
    "    if flatten:\n",
    "        x = x.reshape((len(x), -1))\n",
    "    return x\n",
    "\n",
    "def preproc_y(y, num_classes=10):\n",
    "    if y.shape[-1] == 1:\n",
    "        y = keras.utils.to_categorical(y, num_classes)\n",
    "    return y   "
   ]
  },
  {
   "cell_type": "code",
   "execution_count": 4,
   "metadata": {},
   "outputs": [],
   "source": [
    "x_train, y_train = train\n",
    "x_test, y_test = test\n",
    "\n",
    "# Preproc the inputs\n",
    "x_train = preproc_x(x_train)\n",
    "x_test = preproc_x(x_test)\n",
    "\n",
    "# Preprc the outputs\n",
    "y_train = preproc_y(y_train)\n",
    "y_test = preproc_y(y_test)"
   ]
  },
  {
   "cell_type": "code",
   "execution_count": 11,
   "metadata": {},
   "outputs": [
    {
     "name": "stdout",
     "output_type": "stream",
     "text": [
      "_________________________________________________________________\n",
      "Layer (type)                 Output Shape              Param #   \n",
      "=================================================================\n",
      "input_2 (InputLayer)         (None, 3072)              0         \n",
      "_________________________________________________________________\n",
      "hidden_layer1 (Dense)        (None, 512)               1573376   \n",
      "_________________________________________________________________\n",
      "hidden_layer2 (Dense)        (None, 256)               131328    \n",
      "_________________________________________________________________\n",
      "hidden_layer3 (Dense)        (None, 256)               65792     \n",
      "_________________________________________________________________\n",
      "hidden_layer4 (Dense)        (None, 256)               65792     \n",
      "_________________________________________________________________\n",
      "hidden_layer5 (Dense)        (None, 128)               32896     \n",
      "_________________________________________________________________\n",
      "hidden_layer6 (Dense)        (None, 64)                8256      \n",
      "_________________________________________________________________\n",
      "hidden_layer7 (Dense)        (None, 64)                4160      \n",
      "_________________________________________________________________\n",
      "hidden_layer8 (Dense)        (None, 32)                2080      \n",
      "_________________________________________________________________\n",
      "output (Dense)               (None, 10)                330       \n",
      "=================================================================\n",
      "Total params: 1,884,010\n",
      "Trainable params: 1,884,010\n",
      "Non-trainable params: 0\n",
      "_________________________________________________________________\n"
     ]
    }
   ],
   "source": [
    "\"\"\"Code Here\n",
    "建立你的神經網路\n",
    "\"\"\"\n",
    "def build_mlp(input_shape, output_units=10, num_neurons=[512,256,256, 256, 128,64,64,32]):\n",
    "    input_layer = keras.layers.Input(input_shape)\n",
    "    \n",
    "    for i, n_units in enumerate(num_neurons):\n",
    "        if i == 0:\n",
    "            x = keras.layers.Dense(units=n_units, activation=\"relu\", name=\"hidden_layer\"+str(i+1))(input_layer)\n",
    "        else:\n",
    "            x = keras.layers.Dense(units=n_units, activation=\"relu\", name=\"hidden_layer\"+str(i+1))(x)\n",
    "    \n",
    "    out = keras.layers.Dense(units=output_units, activation=\"softmax\", name=\"output\")(x)\n",
    "    \n",
    "    model = keras.models.Model(inputs=[input_layer], outputs=[out])\n",
    "    return model\n",
    "model = build_mlp(input_shape=x_train.shape[1:])\n",
    "model.summary()"
   ]
  },
  {
   "cell_type": "code",
   "execution_count": 12,
   "metadata": {},
   "outputs": [],
   "source": [
    "## 超參數設定\n",
    "LEARNING_RATE = 0.001\n",
    "EPOCHS = 20\n",
    "BATCH_SIZE = 256"
   ]
  },
  {
   "cell_type": "code",
   "execution_count": 13,
   "metadata": {},
   "outputs": [],
   "source": [
    "optimizer = keras.optimizers.Adam(lr=LEARNING_RATE)\n",
    "model.compile(loss=\"categorical_crossentropy\", metrics=[\"accuracy\"], optimizer=optimizer)"
   ]
  },
  {
   "cell_type": "code",
   "execution_count": 14,
   "metadata": {},
   "outputs": [
    {
     "name": "stdout",
     "output_type": "stream",
     "text": [
      "Train on 50000 samples, validate on 10000 samples\n",
      "Epoch 1/20\n",
      "50000/50000 [==============================] - 17s 338us/step - loss: 1.9958 - acc: 0.2588 - val_loss: 1.8433 - val_acc: 0.3210\n",
      "Epoch 2/20\n",
      "50000/50000 [==============================] - 16s 316us/step - loss: 1.7854 - acc: 0.3506 - val_loss: 1.7616 - val_acc: 0.3612\n",
      "Epoch 3/20\n",
      "50000/50000 [==============================] - 15s 306us/step - loss: 1.6970 - acc: 0.3860 - val_loss: 1.6524 - val_acc: 0.4088\n",
      "Epoch 4/20\n",
      "50000/50000 [==============================] - 14s 283us/step - loss: 1.6224 - acc: 0.4151 - val_loss: 1.6259 - val_acc: 0.4124\n",
      "Epoch 5/20\n",
      "50000/50000 [==============================] - 14s 275us/step - loss: 1.5624 - acc: 0.4392 - val_loss: 1.6170 - val_acc: 0.4178\n",
      "Epoch 6/20\n",
      "50000/50000 [==============================] - 14s 276us/step - loss: 1.5262 - acc: 0.4511 - val_loss: 1.5452 - val_acc: 0.4529\n",
      "Epoch 7/20\n",
      "50000/50000 [==============================] - 14s 287us/step - loss: 1.4889 - acc: 0.4655 - val_loss: 1.4964 - val_acc: 0.4748\n",
      "Epoch 8/20\n",
      "50000/50000 [==============================] - 14s 277us/step - loss: 1.4540 - acc: 0.4791 - val_loss: 1.4732 - val_acc: 0.4744\n",
      "Epoch 9/20\n",
      "50000/50000 [==============================] - 14s 273us/step - loss: 1.4249 - acc: 0.4886 - val_loss: 1.4677 - val_acc: 0.4776\n",
      "Epoch 10/20\n",
      "50000/50000 [==============================] - 14s 274us/step - loss: 1.3857 - acc: 0.5027 - val_loss: 1.4640 - val_acc: 0.4825\n",
      "Epoch 11/20\n",
      "50000/50000 [==============================] - 14s 276us/step - loss: 1.3595 - acc: 0.5138 - val_loss: 1.4547 - val_acc: 0.4917\n",
      "Epoch 12/20\n",
      "50000/50000 [==============================] - 14s 281us/step - loss: 1.3274 - acc: 0.5256 - val_loss: 1.4752 - val_acc: 0.4789\n",
      "Epoch 13/20\n",
      "50000/50000 [==============================] - 15s 290us/step - loss: 1.3101 - acc: 0.5295 - val_loss: 1.3948 - val_acc: 0.5075\n",
      "Epoch 14/20\n",
      "50000/50000 [==============================] - 14s 284us/step - loss: 1.2899 - acc: 0.5404 - val_loss: 1.4146 - val_acc: 0.5062\n",
      "Epoch 15/20\n",
      "50000/50000 [==============================] - 14s 289us/step - loss: 1.2528 - acc: 0.5491 - val_loss: 1.4027 - val_acc: 0.5038\n",
      "Epoch 16/20\n",
      "50000/50000 [==============================] - 14s 283us/step - loss: 1.2237 - acc: 0.5603 - val_loss: 1.3961 - val_acc: 0.5119\n",
      "Epoch 17/20\n",
      "50000/50000 [==============================] - 15s 303us/step - loss: 1.2016 - acc: 0.5711 - val_loss: 1.4538 - val_acc: 0.5029\n",
      "Epoch 18/20\n",
      "50000/50000 [==============================] - 14s 274us/step - loss: 1.1770 - acc: 0.5760 - val_loss: 1.3832 - val_acc: 0.5249\n",
      "Epoch 19/20\n",
      "50000/50000 [==============================] - 15s 307us/step - loss: 1.1478 - acc: 0.5878 - val_loss: 1.4015 - val_acc: 0.5149\n",
      "Epoch 20/20\n",
      "50000/50000 [==============================] - 15s 299us/step - loss: 1.1290 - acc: 0.5941 - val_loss: 1.4105 - val_acc: 0.5086\n"
     ]
    },
    {
     "data": {
      "text/plain": [
       "<keras.callbacks.History at 0x18ee0b70>"
      ]
     },
     "execution_count": 14,
     "metadata": {},
     "output_type": "execute_result"
    }
   ],
   "source": [
    "model.fit(x_train, y_train, \n",
    "          epochs=EPOCHS, \n",
    "          batch_size=BATCH_SIZE, \n",
    "          validation_data=(x_test, y_test), \n",
    "          shuffle=True)"
   ]
  },
  {
   "cell_type": "code",
   "execution_count": 15,
   "metadata": {},
   "outputs": [
    {
     "data": {
      "image/png": "[encoded data removed]",
      "text/plain": [
       "<Figure size 432x288 with 1 Axes>"
      ]
     },
     "metadata": {
      "needs_background": "light"
     },
     "output_type": "display_data"
    },
    {
     "data": {
      "image/png": "[encoded data removed]",
      "text/plain": [
       "<Figure size 432x288 with 1 Axes>"
      ]
     },
     "metadata": {
      "needs_background": "light"
     },
     "output_type": "display_data"
    }
   ],
   "source": [
    "import matplotlib.pyplot as plt\n",
    "\n",
    "\n",
    "train_loss = model.history.history[\"loss\"]\n",
    "valid_loss = model.history.history[\"val_loss\"]\n",
    "\n",
    "train_acc = model.history.history[\"acc\"]\n",
    "valid_acc = model.history.history[\"val_acc\"]\n",
    "\n",
    "plt.plot(range(len(train_loss)), train_loss, label=\"train loss\")\n",
    "plt.plot(range(len(valid_loss)), valid_loss, label=\"valid loss\")\n",
    "plt.legend()\n",
    "plt.title(\"Loss\")\n",
    "plt.show()\n",
    "\n",
    "plt.plot(range(len(train_acc)), train_acc, label=\"train accuracy\")\n",
    "plt.plot(range(len(valid_acc)), valid_acc, label=\"valid accuracy\")\n",
    "plt.legend()\n",
    "plt.title(\"Accuracy\")\n",
    "plt.show()"
   ]
  }
 ],
 "metadata": {
  "kernelspec": {
   "display_name": "Python 3",
   "language": "python",
   "name": "python3"
  },
  "language_info": {
   "codemirror_mode": {
    "name": "ipython",
    "version": 3
   },
   "file_extension": ".py",
   "mimetype": "text/x-python",
   "name": "python",
   "nbconvert_exporter": "python",
   "pygments_lexer": "ipython3",
   "version": "3.7.3"
  }
 },
 "nbformat": 4,
 "nbformat_minor": 2
}
